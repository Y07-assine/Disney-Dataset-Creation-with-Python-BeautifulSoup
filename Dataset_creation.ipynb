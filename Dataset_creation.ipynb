{
  "nbformat": 4,
  "nbformat_minor": 0,
  "metadata": {
    "colab": {
      "name": "Dataset creation.ipynb",
      "provenance": [],
      "collapsed_sections": [],
      "authorship_tag": "ABX9TyMjPHB/uU42NQQEE9/gnkBc",
      "include_colab_link": true
    },
    "kernelspec": {
      "name": "python3",
      "display_name": "Python 3"
    },
    "language_info": {
      "name": "python"
    }
  },
  "cells": [
    {
      "cell_type": "markdown",
      "metadata": {
        "id": "view-in-github",
        "colab_type": "text"
      },
      "source": [
        "<a href=\"https://colab.research.google.com/github/Y07-assine/Disney-Dataset-Creation-with-Python-BeautifulSoup/blob/main/Dataset_creation.ipynb\" target=\"_parent\"><img src=\"https://colab.research.google.com/assets/colab-badge.svg\" alt=\"Open In Colab\"/></a>"
      ]
    },
    {
      "cell_type": "markdown",
      "metadata": {
        "id": "2hAJC7b_apDr"
      },
      "source": [
        "##Disney Dataset Creation with Python BeautifulSoup "
      ]
    },
    {
      "cell_type": "markdown",
      "metadata": {
        "id": "rJ1f1RYWb9Yn"
      },
      "source": [
        "Scrape & clean a list of disney wikipedia pages to create a dataset to further analyse"
      ]
    },
    {
      "cell_type": "markdown",
      "metadata": {
        "id": "RB9E79wyd1rg"
      },
      "source": [
        "1. Get info box"
      ]
    },
    {
      "cell_type": "markdown",
      "metadata": {
        "id": "O7hjW6hxd56B"
      },
      "source": [
        "Import necessary libraries"
      ]
    },
    {
      "cell_type": "code",
      "metadata": {
        "id": "c63TEx_Pak80"
      },
      "source": [
        "from bs4 import BeautifulSoup as bs\n",
        "import requests"
      ],
      "execution_count": null,
      "outputs": []
    },
    {
      "cell_type": "markdown",
      "metadata": {
        "id": "WWzmQbKwePZA"
      },
      "source": [
        "Load the webpage"
      ]
    },
    {
      "cell_type": "code",
      "metadata": {
        "id": "dc50CJ82eR_2"
      },
      "source": [
        "page = requests.get(\"https://en.wikipedia.org/wiki/Toy_Story_3\")\n",
        "\n",
        "#convert to a beautiful soup object\n",
        "soup = bs(page.content)\n",
        "\n",
        "contents = soup.prettify()\n",
        "contents"
      ],
      "execution_count": null,
      "outputs": []
    },
    {
      "cell_type": "code",
      "metadata": {
        "colab": {
          "base_uri": "https://localhost:8080/"
        },
        "id": "uOi5_lvLfTCj",
        "outputId": "73269bfe-e5ef-4c37-ddc3-cca11f088350"
      },
      "source": [
        "info_box = soup.find(class_=\"infobox vevent\")\n",
        "info_rows = info_box.find_all(\"tr\")\n",
        "\n",
        "for row in info_rows:\n",
        "  print(row.prettify())"
      ],
      "execution_count": null,
      "outputs": [
        {
          "output_type": "stream",
          "name": "stdout",
          "text": [
            "<tr>\n",
            " <th class=\"infobox-above summary\" colspan=\"2\" style=\"font-size: 125%; font-style: italic;\">\n",
            "  Toy Story 3\n",
            " </th>\n",
            "</tr>\n",
            "\n",
            "<tr>\n",
            " <td class=\"infobox-image\" colspan=\"2\">\n",
            "  <a class=\"image\" href=\"/wiki/File:Toy_Story_3_poster.jpg\" title=\"All of the toys packed close together, holding up a large numeral '3', with Buzz, who is putting a friendly arm around Woody's shoulder, and Woody holding the top of the 3.\">\n",
            "   <img alt=\"All of the toys packed close together, holding up a large numeral '3', with Buzz, who is putting a friendly arm around Woody's shoulder, and Woody holding the top of the 3.\" class=\"thumbborder\" data-file-height=\"326\" data-file-width=\"220\" decoding=\"async\" height=\"326\" src=\"//upload.wikimedia.org/wikipedia/en/6/69/Toy_Story_3_poster.jpg\" width=\"220\"/>\n",
            "  </a>\n",
            "  <div class=\"infobox-caption\">\n",
            "   Theatrical release poster\n",
            "  </div>\n",
            " </td>\n",
            "</tr>\n",
            "\n",
            "<tr>\n",
            " <th class=\"infobox-label\" scope=\"row\" style=\"white-space: nowrap; padding-right: 0.65em;\">\n",
            "  Directed by\n",
            " </th>\n",
            " <td class=\"infobox-data\">\n",
            "  <a href=\"/wiki/Lee_Unkrich\" title=\"Lee Unkrich\">\n",
            "   Lee Unkrich\n",
            "  </a>\n",
            " </td>\n",
            "</tr>\n",
            "\n",
            "<tr>\n",
            " <th class=\"infobox-label\" scope=\"row\" style=\"white-space: nowrap; padding-right: 0.65em;\">\n",
            "  Screenplay by\n",
            " </th>\n",
            " <td class=\"infobox-data\">\n",
            "  <a href=\"/wiki/Michael_Arndt\" title=\"Michael Arndt\">\n",
            "   Michael Arndt\n",
            "  </a>\n",
            " </td>\n",
            "</tr>\n",
            "\n",
            "<tr>\n",
            " <th class=\"infobox-label\" scope=\"row\" style=\"white-space: nowrap; padding-right: 0.65em;\">\n",
            "  Story by\n",
            " </th>\n",
            " <td class=\"infobox-data\">\n",
            "  <div class=\"plainlist\">\n",
            "   <ul>\n",
            "    <li>\n",
            "     <a href=\"/wiki/John_Lasseter\" title=\"John Lasseter\">\n",
            "      John Lasseter\n",
            "     </a>\n",
            "    </li>\n",
            "    <li>\n",
            "     <a href=\"/wiki/Andrew_Stanton\" title=\"Andrew Stanton\">\n",
            "      Andrew Stanton\n",
            "     </a>\n",
            "    </li>\n",
            "    <li>\n",
            "     Lee Unkrich\n",
            "    </li>\n",
            "   </ul>\n",
            "  </div>\n",
            " </td>\n",
            "</tr>\n",
            "\n",
            "<tr>\n",
            " <th class=\"infobox-label\" scope=\"row\" style=\"white-space: nowrap; padding-right: 0.65em;\">\n",
            "  Produced by\n",
            " </th>\n",
            " <td class=\"infobox-data\">\n",
            "  <a href=\"/wiki/Darla_K._Anderson\" title=\"Darla K. Anderson\">\n",
            "   Darla K. Anderson\n",
            "  </a>\n",
            " </td>\n",
            "</tr>\n",
            "\n",
            "<tr>\n",
            " <th class=\"infobox-label\" scope=\"row\" style=\"white-space: nowrap; padding-right: 0.65em;\">\n",
            "  Starring\n",
            " </th>\n",
            " <td class=\"infobox-data\">\n",
            "  <div class=\"plainlist\">\n",
            "   <ul>\n",
            "    <li>\n",
            "     <a href=\"/wiki/Tom_Hanks\" title=\"Tom Hanks\">\n",
            "      Tom Hanks\n",
            "     </a>\n",
            "    </li>\n",
            "    <li>\n",
            "     <a href=\"/wiki/Tim_Allen\" title=\"Tim Allen\">\n",
            "      Tim Allen\n",
            "     </a>\n",
            "    </li>\n",
            "    <li>\n",
            "     <a href=\"/wiki/Joan_Cusack\" title=\"Joan Cusack\">\n",
            "      Joan Cusack\n",
            "     </a>\n",
            "    </li>\n",
            "    <li>\n",
            "     <a href=\"/wiki/Don_Rickles\" title=\"Don Rickles\">\n",
            "      Don Rickles\n",
            "     </a>\n",
            "    </li>\n",
            "    <li>\n",
            "     <a href=\"/wiki/Wallace_Shawn\" title=\"Wallace Shawn\">\n",
            "      Wallace Shawn\n",
            "     </a>\n",
            "    </li>\n",
            "    <li>\n",
            "     <a href=\"/wiki/John_Ratzenberger\" title=\"John Ratzenberger\">\n",
            "      John Ratzenberger\n",
            "     </a>\n",
            "    </li>\n",
            "    <li>\n",
            "     <a href=\"/wiki/Estelle_Harris\" title=\"Estelle Harris\">\n",
            "      Estelle Harris\n",
            "     </a>\n",
            "    </li>\n",
            "    <li>\n",
            "     <a href=\"/wiki/Ned_Beatty\" title=\"Ned Beatty\">\n",
            "      Ned Beatty\n",
            "     </a>\n",
            "    </li>\n",
            "    <li>\n",
            "     <a href=\"/wiki/Michael_Keaton\" title=\"Michael Keaton\">\n",
            "      Michael Keaton\n",
            "     </a>\n",
            "    </li>\n",
            "    <li>\n",
            "     <a href=\"/wiki/Jodi_Benson\" title=\"Jodi Benson\">\n",
            "      Jodi Benson\n",
            "     </a>\n",
            "    </li>\n",
            "    <li>\n",
            "     <a href=\"/wiki/John_Morris_(actor)\" title=\"John Morris (actor)\">\n",
            "      John Morris\n",
            "     </a>\n",
            "    </li>\n",
            "   </ul>\n",
            "  </div>\n",
            " </td>\n",
            "</tr>\n",
            "\n",
            "<tr>\n",
            " <th class=\"infobox-label\" scope=\"row\" style=\"white-space: nowrap; padding-right: 0.65em;\">\n",
            "  Cinematography\n",
            " </th>\n",
            " <td class=\"infobox-data\">\n",
            "  <div class=\"plainlist\">\n",
            "   <ul>\n",
            "    <li>\n",
            "     Jeremy Lasky\n",
            "    </li>\n",
            "    <li>\n",
            "     Kim White\n",
            "    </li>\n",
            "   </ul>\n",
            "  </div>\n",
            " </td>\n",
            "</tr>\n",
            "\n",
            "<tr>\n",
            " <th class=\"infobox-label\" scope=\"row\" style=\"white-space: nowrap; padding-right: 0.65em;\">\n",
            "  Edited by\n",
            " </th>\n",
            " <td class=\"infobox-data\">\n",
            "  <a href=\"/wiki/Ken_Schretzmann\" title=\"Ken Schretzmann\">\n",
            "   Ken Schretzmann\n",
            "  </a>\n",
            " </td>\n",
            "</tr>\n",
            "\n",
            "<tr>\n",
            " <th class=\"infobox-label\" scope=\"row\" style=\"white-space: nowrap; padding-right: 0.65em;\">\n",
            "  Music by\n",
            " </th>\n",
            " <td class=\"infobox-data\">\n",
            "  <a href=\"/wiki/Randy_Newman\" title=\"Randy Newman\">\n",
            "   Randy Newman\n",
            "  </a>\n",
            " </td>\n",
            "</tr>\n",
            "\n",
            "<tr>\n",
            " <th class=\"infobox-label\" scope=\"row\" style=\"white-space: nowrap; padding-right: 0.65em;\">\n",
            "  <div style=\"display:inline-block; padding:0.1em 0;line-height:1.2em;\">\n",
            "   Production\n",
            "   <br/>\n",
            "   companies\n",
            "  </div>\n",
            " </th>\n",
            " <td class=\"infobox-data\">\n",
            "  <div style=\"vertical-align: middle;\">\n",
            "   <div class=\"plainlist\">\n",
            "    <ul>\n",
            "     <li>\n",
            "      <a href=\"/wiki/Walt_Disney_Pictures\" title=\"Walt Disney Pictures\">\n",
            "       Walt Disney Pictures\n",
            "      </a>\n",
            "     </li>\n",
            "     <li>\n",
            "      <a class=\"mw-redirect\" href=\"/wiki/Pixar_Animation_Studios\" title=\"Pixar Animation Studios\">\n",
            "       Pixar Animation Studios\n",
            "      </a>\n",
            "     </li>\n",
            "    </ul>\n",
            "   </div>\n",
            "  </div>\n",
            " </td>\n",
            "</tr>\n",
            "\n",
            "<tr>\n",
            " <th class=\"infobox-label\" scope=\"row\" style=\"white-space: nowrap; padding-right: 0.65em;\">\n",
            "  Distributed by\n",
            " </th>\n",
            " <td class=\"infobox-data\">\n",
            "  <a href=\"/wiki/Walt_Disney_Studios_Motion_Pictures\" title=\"Walt Disney Studios Motion Pictures\">\n",
            "   Walt Disney Studios\n",
            "   <br/>\n",
            "   Motion Pictures\n",
            "  </a>\n",
            " </td>\n",
            "</tr>\n",
            "\n",
            "<tr>\n",
            " <th class=\"infobox-label\" scope=\"row\" style=\"white-space: nowrap; padding-right: 0.65em;\">\n",
            "  <div style=\"display:inline-block; padding:0.1em 0;line-height:1.2em;white-space: normal;\">\n",
            "   Release date\n",
            "  </div>\n",
            " </th>\n",
            " <td class=\"infobox-data\">\n",
            "  <div class=\"plainlist\">\n",
            "   <ul>\n",
            "    <li>\n",
            "     June 12, 2010\n",
            "     <span style=\"display:none\">\n",
            "      (\n",
            "      <span class=\"bday dtstart published updated\">\n",
            "       2010-06-12\n",
            "      </span>\n",
            "      )\n",
            "     </span>\n",
            "     (\n",
            "     <a href=\"/wiki/Taormina_Film_Fest\" title=\"Taormina Film Fest\">\n",
            "      Taormina Film Fest\n",
            "     </a>\n",
            "     )\n",
            "    </li>\n",
            "    <li>\n",
            "     June 18, 2010\n",
            "     <span style=\"display:none\">\n",
            "      (\n",
            "      <span class=\"bday dtstart published updated\">\n",
            "       2010-06-18\n",
            "      </span>\n",
            "      )\n",
            "     </span>\n",
            "     (United States)\n",
            "    </li>\n",
            "   </ul>\n",
            "  </div>\n",
            " </td>\n",
            "</tr>\n",
            "\n",
            "<tr>\n",
            " <th class=\"infobox-label\" scope=\"row\" style=\"white-space: nowrap; padding-right: 0.65em;\">\n",
            "  <div style=\"display:inline-block; padding:0.1em 0;line-height:1.2em;white-space: normal;\">\n",
            "   Running time\n",
            "  </div>\n",
            " </th>\n",
            " <td class=\"infobox-data\">\n",
            "  103 minutes\n",
            "  <sup class=\"reference\" id=\"cite_ref-mojo1_1-0\">\n",
            "   <a href=\"#cite_note-mojo1-1\">\n",
            "    [1]\n",
            "   </a>\n",
            "  </sup>\n",
            " </td>\n",
            "</tr>\n",
            "\n",
            "<tr>\n",
            " <th class=\"infobox-label\" scope=\"row\" style=\"white-space: nowrap; padding-right: 0.65em;\">\n",
            "  Country\n",
            " </th>\n",
            " <td class=\"infobox-data\">\n",
            "  United States\n",
            " </td>\n",
            "</tr>\n",
            "\n",
            "<tr>\n",
            " <th class=\"infobox-label\" scope=\"row\" style=\"white-space: nowrap; padding-right: 0.65em;\">\n",
            "  Language\n",
            " </th>\n",
            " <td class=\"infobox-data\">\n",
            "  English\n",
            " </td>\n",
            "</tr>\n",
            "\n",
            "<tr>\n",
            " <th class=\"infobox-label\" scope=\"row\" style=\"white-space: nowrap; padding-right: 0.65em;\">\n",
            "  Budget\n",
            " </th>\n",
            " <td class=\"infobox-data\">\n",
            "  $200 million\n",
            "  <sup class=\"reference\" id=\"cite_ref-mojo1_1-1\">\n",
            "   <a href=\"#cite_note-mojo1-1\">\n",
            "    [1]\n",
            "   </a>\n",
            "  </sup>\n",
            " </td>\n",
            "</tr>\n",
            "\n",
            "<tr>\n",
            " <th class=\"infobox-label\" scope=\"row\" style=\"white-space: nowrap; padding-right: 0.65em;\">\n",
            "  Box office\n",
            " </th>\n",
            " <td class=\"infobox-data\">\n",
            "  $1.067 billion\n",
            "  <sup class=\"reference\" id=\"cite_ref-mojo1_1-2\">\n",
            "   <a href=\"#cite_note-mojo1-1\">\n",
            "    [1]\n",
            "   </a>\n",
            "  </sup>\n",
            " </td>\n",
            "</tr>\n"
          ]
        }
      ]
    },
    {
      "cell_type": "code",
      "metadata": {
        "colab": {
          "base_uri": "https://localhost:8080/"
        },
        "id": "BN6oZEgXjZPg",
        "outputId": "80cf7d03-c150-44f9-86ed-6aada57392a1"
      },
      "source": [
        "def get_content_value(row):\n",
        "  if row.find('li'):\n",
        "    return [li.get_text(\" \",strip=True).replace(\"\\xa0\",\" \") for li in row.find_all('li')]\n",
        "  else:\n",
        "    return row.get_text(\" \",strip=True).replace(\"\\xa0\",\" \") \n",
        "\n",
        "\n",
        "movie_info = {}\n",
        "\n",
        "for index,row in enumerate(info_rows):\n",
        "  if index == 0:\n",
        "    movie_info['title'] = row.find(\"th\").get_text(\" \",strip=True)\n",
        "  elif index ==1:\n",
        "    continue\n",
        "  else:\n",
        "    key = row.find(\"th\").get_text(\" \",strip=True)\n",
        "    value = get_content_value(row.find(\"td\"))\n",
        "    movie_info[key] = value\n",
        "\n",
        "movie_info"
      ],
      "execution_count": null,
      "outputs": [
        {
          "output_type": "execute_result",
          "data": {
            "text/plain": [
              "{'Box office': '$1.067 billion [1]',\n",
              " 'Budget': '$200 million [1]',\n",
              " 'Cinematography': ['Jeremy Lasky', 'Kim White'],\n",
              " 'Country': 'United States',\n",
              " 'Directed by': 'Lee Unkrich',\n",
              " 'Distributed by': 'Walt Disney Studios Motion Pictures',\n",
              " 'Edited by': 'Ken Schretzmann',\n",
              " 'Language': 'English',\n",
              " 'Music by': 'Randy Newman',\n",
              " 'Produced by': 'Darla K. Anderson',\n",
              " 'Production companies': ['Walt Disney Pictures', 'Pixar Animation Studios'],\n",
              " 'Release date': ['June 12, 2010 ( 2010-06-12 ) ( Taormina Film Fest )',\n",
              "  'June 18, 2010 ( 2010-06-18 ) (United States)'],\n",
              " 'Running time': '103 minutes [1]',\n",
              " 'Screenplay by': 'Michael Arndt',\n",
              " 'Starring': ['Tom Hanks',\n",
              "  'Tim Allen',\n",
              "  'Joan Cusack',\n",
              "  'Don Rickles',\n",
              "  'Wallace Shawn',\n",
              "  'John Ratzenberger',\n",
              "  'Estelle Harris',\n",
              "  'Ned Beatty',\n",
              "  'Michael Keaton',\n",
              "  'Jodi Benson',\n",
              "  'John Morris'],\n",
              " 'Story by': ['John Lasseter', 'Andrew Stanton', 'Lee Unkrich'],\n",
              " 'title': 'Toy Story 3'}"
            ]
          },
          "metadata": {},
          "execution_count": 4
        }
      ]
    },
    {
      "cell_type": "markdown",
      "metadata": {
        "id": "nFIsBsm22Dc_"
      },
      "source": [
        "2. Get info box for all movies"
      ]
    },
    {
      "cell_type": "code",
      "metadata": {
        "id": "m3dIiHFa2Hyv"
      },
      "source": [
        "page = requests.get(\"https://en.wikipedia.org/wiki/List_of_Walt_Disney_Pictures_films\")\n",
        "\n",
        "#convert to a beautiful soup object\n",
        "soup = bs(page.content)\n",
        "\n",
        "contents = soup.prettify()\n",
        "contents"
      ],
      "execution_count": null,
      "outputs": []
    },
    {
      "cell_type": "code",
      "metadata": {
        "id": "7l1pMHxK4MWH",
        "colab": {
          "base_uri": "https://localhost:8080/"
        },
        "outputId": "6d3d36b0-a184-439b-b7b8-eb7be38805e8"
      },
      "source": [
        "movies = soup.select(\".wikitable.sortable i\")\n",
        "movies[0:5]"
      ],
      "execution_count": null,
      "outputs": [
        {
          "output_type": "execute_result",
          "data": {
            "text/plain": [
              "[<i><a href=\"/wiki/Academy_Award_Review_of_Walt_Disney_Cartoons\" title=\"Academy Award Review of Walt Disney Cartoons\">Academy Award Review of Walt Disney Cartoons</a></i>,\n",
              " <i><a href=\"/wiki/Snow_White_and_the_Seven_Dwarfs_(1937_film)\" title=\"Snow White and the Seven Dwarfs (1937 film)\">Snow White and the Seven Dwarfs</a></i>,\n",
              " <i><a href=\"/wiki/Pinocchio_(1940_film)\" title=\"Pinocchio (1940 film)\">Pinocchio</a></i>,\n",
              " <i><a href=\"/wiki/Fantasia_(1940_film)\" title=\"Fantasia (1940 film)\">Fantasia</a></i>,\n",
              " <i><a href=\"/wiki/The_Reluctant_Dragon_(1941_film)\" title=\"The Reluctant Dragon (1941 film)\">The Reluctant Dragon</a></i>]"
            ]
          },
          "metadata": {},
          "execution_count": 6
        }
      ]
    },
    {
      "cell_type": "code",
      "metadata": {
        "id": "Op7N-8_rvlhJ"
      },
      "source": [
        "def get_content_value(row):\n",
        "  if row.find('li'):\n",
        "    return [li.get_text(\" \",strip=True).replace(\"\\xa0\",\" \") for li in row.find_all('li')]\n",
        "  elif row.find(\"br\"):\n",
        "    return [text for text in row.find_all('a')]\n",
        "  else:\n",
        "    return row.get_text(\" \",strip=True).replace(\"\\xa0\",\" \") \n",
        "\n",
        "def clean_tags(soup):\n",
        "  for tag in soup.find_all([\"sup\",\"span\"]):\n",
        "    tag.decompose()\n",
        "\n",
        "def get_info_box(url):\n",
        "\n",
        "  page = requests.get(url)\n",
        "  #convert to a beautiful soup object\n",
        "  soup = bs(page.content)\n",
        "\n",
        "  info_box = soup.find(class_=\"infobox vevent\")\n",
        "  info_rows = info_box.find_all(\"tr\")\n",
        "\n",
        "  clean_tags(soup)\n",
        "\n",
        "  movie_info = {}\n",
        "\n",
        "  for index,row in enumerate(info_rows):\n",
        "    if index == 0:\n",
        "      movie_info['title'] = row.find(\"th\").get_text(\" \",strip=True)\n",
        "    else:\n",
        "      header = row.find(\"th\")\n",
        "      if header:\n",
        "        key = row.find(\"th\").get_text(\" \",strip=True)\n",
        "        value = get_content_value(row.find(\"td\"))\n",
        "        movie_info[key] = value\n",
        "\n",
        "  return movie_info"
      ],
      "execution_count": null,
      "outputs": []
    },
    {
      "cell_type": "code",
      "metadata": {
        "colab": {
          "base_uri": "https://localhost:8080/"
        },
        "id": "VTa9EeYPD7lw",
        "outputId": "eeff1aa3-334c-472f-c909-9786aacab4ad"
      },
      "source": [
        "get_info_box(\"https://en.wikipedia.org/wiki/The_Happiest_Millionaire\")"
      ],
      "execution_count": null,
      "outputs": [
        {
          "output_type": "execute_result",
          "data": {
            "text/plain": [
              "{'Based on': [],\n",
              " 'Box office': '$5 million (U.S./Canada rentals)',\n",
              " 'Budget': '$5 million',\n",
              " 'Cinematography': 'Edward Colman',\n",
              " 'Country': 'United States',\n",
              " 'Directed by': 'Norman Tokar',\n",
              " 'Distributed by': 'Buena Vista Distribution',\n",
              " 'Edited by': 'Cotton Warburton',\n",
              " 'Language': 'English',\n",
              " 'Music by': 'Jack Elliott',\n",
              " 'Produced by': [<a href=\"/wiki/Walt_Disney\" title=\"Walt Disney\">Walt Disney</a>,\n",
              "  <a href=\"/wiki/Bill_Anderson_(producer)\" title=\"Bill Anderson (producer)\">Bill Anderson</a>],\n",
              " 'Production company': 'Walt Disney Productions',\n",
              " 'Release date': ['June 23, 1967', 'November 30, 1967'],\n",
              " 'Running time': [<a href=\"/wiki/Los_Angeles\" title=\"Los Angeles\">Los Angeles</a>,\n",
              "  <a href=\"/wiki/New_York_City\" title=\"New York City\">New York City</a>,\n",
              "  <a href=\"/wiki/Director%27s_cut\" title=\"Director's cut\">Director's cut</a>],\n",
              " 'Screenplay by': 'A. J. Carothers',\n",
              " 'Starring': ['Fred MacMurray',\n",
              "  'Tommy Steele',\n",
              "  'Greer Garson',\n",
              "  'Gladys Cooper',\n",
              "  'Geraldine Page',\n",
              "  'Hermione Baddeley',\n",
              "  'John Davidson',\n",
              "  'Lesley Ann Warren'],\n",
              " 'Story by': 'A. J. Carothers',\n",
              " 'title': 'The Happiest Millionaire'}"
            ]
          },
          "metadata": {},
          "execution_count": 8
        }
      ]
    },
    {
      "cell_type": "code",
      "metadata": {
        "colab": {
          "base_uri": "https://localhost:8080/"
        },
        "id": "spE9rJZExQcC",
        "outputId": "c894cd59-a4d4-4ca2-cbe1-60b2fcd9f552"
      },
      "source": [
        "page = requests.get(\"https://en.wikipedia.org/wiki/List_of_Walt_Disney_Pictures_films\")\n",
        "\n",
        "#convert to a beautiful soup object\n",
        "soup = bs(page.content)\n",
        "movies = soup.select(\".wikitable.sortable i\")\n",
        "base_path = \"https://en.wikipedia.org\"\n",
        "movie_info_list = []\n",
        "for index,movie in enumerate(movies):\n",
        "  try:\n",
        "    relative_path = movie.a['href']\n",
        "    title = movie.a['title']\n",
        "    full_path = base_path + relative_path\n",
        "    movie_info_list.append(get_info_box(full_path))\n",
        "\n",
        "  except Exception as e:\n",
        "    print(movie.get_text())\n",
        "    print(e)"
      ],
      "execution_count": null,
      "outputs": [
        {
          "output_type": "stream",
          "name": "stdout",
          "text": [
            "Zorro the Avenger\n",
            "'NoneType' object has no attribute 'find'\n",
            "The Sign of Zorro\n",
            "'NoneType' object has no attribute 'find'\n",
            "True-Life Adventures\n",
            "'NoneType' object has no attribute 'find_all'\n",
            "Escape from the Dark\n",
            "'NoneType' object is not subscriptable\n",
            "The London Connection\n",
            "'NoneType' object has no attribute 'find'\n",
            "The Omega Connection\n",
            "'NoneType' object is not subscriptable\n",
            "Trail of the Panda\n",
            "'NoneType' object is not subscriptable\n",
            "Growing Up Wild\n",
            "'NoneType' object is not subscriptable\n",
            "Expedition China\n",
            "'NoneType' object is not subscriptable\n",
            "Searcher Clade\n",
            "'NoneType' object is not subscriptable\n",
            "Rise\n",
            "'NoneType' object has no attribute 'find_all'\n",
            "Sister Act 3\n",
            "'NoneType' object has no attribute 'find'\n",
            "Song for a Whale\n",
            "'NoneType' object is not subscriptable\n",
            "Spooked\n",
            "'NoneType' object is not subscriptable\n",
            "Tower of Terror\n",
            "'NoneType' object has no attribute 'find_all'\n",
            "Tron: Ares\n",
            "'NoneType' object has no attribute 'find'\n",
            "The Lion King\n",
            "'NoneType' object is not subscriptable\n",
            "29 Dates\n",
            "'NoneType' object is not subscriptable\n",
            "61\n",
            "'NoneType' object has no attribute 'find_all'\n",
            "Aloha Rodeo\n",
            "'NoneType' object is not subscriptable\n",
            "Keeper of the Lost Cities\n",
            "'NoneType' object is not subscriptable\n",
            "Muppet Man\n",
            "'NoneType' object has no attribute 'find_all'\n",
            "Aladdin\n",
            "'NoneType' object is not subscriptable\n",
            "Cruella\n",
            "'NoneType' object is not subscriptable\n",
            "FC Barcelona\n",
            "'NoneType' object has no attribute 'find_all'\n",
            "Jungle Cruise\n",
            "'NoneType' object is not subscriptable\n",
            "Pirates of the Caribbean\n",
            "'NoneType' object is not subscriptable\n",
            "Prince Anders\n",
            "'NoneType' object is not subscriptable\n",
            "Pirates of the Caribbean\n",
            "'NoneType' object is not subscriptable\n",
            "Wouldn't It Be Nice\n",
            "'NoneType' object is not subscriptable\n",
            "Young Woman and the Sea\n",
            "'NoneType' object is not subscriptable\n"
          ]
        }
      ]
    },
    {
      "cell_type": "code",
      "metadata": {
        "colab": {
          "base_uri": "https://localhost:8080/"
        },
        "id": "UlhTz_Q10dzJ",
        "outputId": "a3754be3-278c-4f58-85dc-d5a7b51094b6"
      },
      "source": [
        "movie_info_list[0]"
      ],
      "execution_count": null,
      "outputs": [
        {
          "output_type": "execute_result",
          "data": {
            "text/plain": [
              "{'Box office': '$45.472',\n",
              " 'Country': 'United States',\n",
              " 'Distributed by': 'RKO Radio Pictures',\n",
              " 'Language': 'English',\n",
              " 'Production company': 'Walt Disney Productions',\n",
              " 'Release date': ['May 19, 1937'],\n",
              " 'Running time': '41 minutes (74 minutes 1966 release)',\n",
              " 'title': 'Academy Award Review of'}"
            ]
          },
          "metadata": {},
          "execution_count": 10
        }
      ]
    },
    {
      "cell_type": "markdown",
      "metadata": {
        "id": "uwPdEVWY16aI"
      },
      "source": [
        "##Save/Reload Movies data"
      ]
    },
    {
      "cell_type": "code",
      "metadata": {
        "id": "UiDqtDaj2FcZ"
      },
      "source": [
        "import json\n",
        "\n",
        "def save_data(file,data):\n",
        "  with open(file, 'w', encoding='utf-8') as f:\n",
        "    json.dump(data, f, ensure_ascii=False, indent=2)\n",
        "\n",
        "def load_data(file):\n",
        "  with open(file, encoding='utf-8') as f:\n",
        "    return json.load(f)"
      ],
      "execution_count": 24,
      "outputs": []
    },
    {
      "cell_type": "code",
      "metadata": {
        "id": "SJcs4FRs2_hl"
      },
      "source": [
        "save_data('disney_data_cleaned.json',movie_info_list)"
      ],
      "execution_count": null,
      "outputs": []
    },
    {
      "cell_type": "markdown",
      "metadata": {
        "id": "cj7K2DfI3Tmt"
      },
      "source": [
        "##Clean our data"
      ]
    },
    {
      "cell_type": "code",
      "metadata": {
        "id": "MZie932v3Wmj"
      },
      "source": [
        "movie_info_list = load_data(\"/content/disney_data_cleaned.json\")"
      ],
      "execution_count": null,
      "outputs": []
    },
    {
      "cell_type": "markdown",
      "metadata": {
        "id": "hsy6QKTV8Fpm"
      },
      "source": [
        "1. Clean up references [1],[2]..."
      ]
    },
    {
      "cell_type": "code",
      "metadata": {
        "id": "KJ6A5NgH8OVq"
      },
      "source": [
        "def clean_tags(soup):\n",
        "  for tag in soup.find_all([\"sup\",\"span\"]):\n",
        "    tag.decompose()\n",
        "\n",
        "##add clean_tags function to get_info_box"
      ],
      "execution_count": null,
      "outputs": []
    },
    {
      "cell_type": "markdown",
      "metadata": {
        "id": "INZWHvngBVrD"
      },
      "source": [
        "2. Split up the long string"
      ]
    },
    {
      "cell_type": "code",
      "metadata": {
        "id": "IpKpUtBRBapc"
      },
      "source": [
        "#add new condition in get_content_value function \n",
        "\n",
        "#elif row.find(\"br\"):\n",
        "    #return [text.get_text() for text in row.find_all('a')]\n"
      ],
      "execution_count": null,
      "outputs": []
    },
    {
      "cell_type": "markdown",
      "metadata": {
        "id": "W83g7T-6LlZX"
      },
      "source": [
        "3. Convert \"Running time\" field to integer"
      ]
    },
    {
      "cell_type": "code",
      "metadata": {
        "colab": {
          "base_uri": "https://localhost:8080/"
        },
        "id": "ZND60jlALsQh",
        "outputId": "1102a8bd-1b44-4b7c-9ce7-c095ce351718"
      },
      "source": [
        "print([movie.get('Running time','N/A') for movie in movie_info_list])"
      ],
      "execution_count": null,
      "outputs": [
        {
          "output_type": "stream",
          "name": "stdout",
          "text": [
            "['41 minutes (74 minutes 1966 release)', '83 minutes', '88 minutes', '126 minutes', '74 minutes', '64 minutes', '70 minutes', '42 minutes', '70 min', '71 minutes', '75 minutes', '94 minutes', '73 minutes', '75 minutes', '82 minutes', '68 minutes', '74 minutes', '96 minutes', '75 minutes', '84 minutes', '77 minutes', '92 minutes', '69 minutes', '81 minutes', [], '127 minutes', '92 minutes', '76 minutes', '75 minutes', '73 minutes', '85 minutes', '81 minutes', '70 minutes', '90 min.', '80 minutes', '75 minutes', '83 minutes', '83 minutes', '72 minutes', '97 minutes', '75 minutes', '104 minutes', '93 minutes', '105 minutes', '95 minutes', '97 minutes', '134 minutes', '69 minutes', '92 minutes', '131 minutes', '79 minutes', '97 minutes', '128 minutes', '74 minutes', '91 minutes', '105 minutes', '98 minutes', '130 minutes', '89 min.', '93 minutes', '67 minutes', '98 minutes', '100 minutes', '118 minutes', '103 minutes', '110 minutes', '80 min.', '79 minutes', '91 minutes', '91 minutes', '97 minutes', '118 minutes', '139 minutes', '131 mins.', '92 minutes', '87 minutes', '116 minutes', '93 minutes', '110 min.', '110 min.', '131 minutes', '101 minutes', '108 minutes', '84 minutes', '78 minutes', '75 minutes', ['Los Angeles', 'New York City', \"Director's cut\"], '106 minutes', '110 minutes', '99 minutes', '113 mins.', '108 minutes', '112 minutes', '93 minutes', '91 minutes', '93 minutes', '100 minutes', '100 minutes', '79 minutes', '96 minutes', '113 minutes', '89 minutes', [], '92 minutes', '88 minutes', '92 minutes', '87 minutes', '93 minutes', '93 minutes', '93 minutes', '90 Minutes', '83 minutes', '96 minutes', '88 minutes', '89 minutes', '91 minutes', '93 minutes', '92 minutes', '97 minutes', '100 minutes', '100 minutes', '89 minutes', '91 minutes', '112 minutes', '115 minutes', '95 minutes', '91 min.', '95 minutes', '104 minutes', '74 minutes', '48 minutes', '77 minutes', '104 minutes', '128 minutes', '101 minutes', '94 minutes', '104 minutes', '90 minutes', '100 minutes', '88 minutes', '93 minutes', '98 minutes', '112 minutes', '84 minutes', '97 minutes', '97 minutes', '114 minutes', '96 minutes', '97 minutes', '109 minutes', '83 minutes', '90 minutes', '107 minutes', '96 minutes', '103 minutes', '91 min', '95 minutes', '105 minutes', '113 minutes', '80 minutes', '101 minutes', '90 minutes', '74 minutes', '90 minutes', '89 minutes', '110 minutes', '74 minutes', '93 minutes', '84 minutes', '83 minutes', '74 minutes', '77 minutes', '107 minutes', '93 minutes', '88 minutes', '108 minutes', '84 minutes', '121 minutes', '89 minutes', '104 minutes', '90 minutes', '86 minutes', '84 minutes', '108 minutes', '107 minutes', '96 minutes', '98 minutes', '105 minutes', '108 minutes', '94 minutes', '106 minutes', '102 minutes', '88 minutes', '102 minutes', '102 minutes', '97 minutes', '111 minutes', '100 minutes', '96 minutes', '98 minutes', '78 minutes', '81 minutes', '108 minutes', '89 minutes', '99 minutes', '89 minutes', '81 minutes', '92 minutes', '100 minutes', '89 minutes', '79 minutes', '91 minutes', '101 minutes', '104 minutes', '103 minutes', '86 minutes', '105 minutes', '75 minutes', '93 minutes', '92 minutes', '98 minutes', '95 minutes', '93 minutes', '87 minutes', '93 minutes', '87 minutes', '128 minutes', '86 minutes', '95 minutes', '114 minutes', '93 minutes', '83 minutes', '83 minutes', '88 minutes', '78 minutes', '112 minutes', '92 minutes', '74 minutes', '78 minutes', '72 minutes', '82 minutes', '104 minutes', '113 minutes', '100 minutes', '78 minutes', '83 minutes', '69 minutes', '96 minutes', '115 minutes', '86 minutes', '92 minutes', '99 minutes', '73 minutes', '73 minutes', '128 minutes', '85 minutes', '88 minutes', '125 minutes', '96 minutes', '104 minutes', '95 minutes', '74 minutes', '72 minutes', '88 minutes', '75 minutes', '61 minutes', '117 minutes', '94 minutes', '100 minutes', '143 minutes', '97 minutes', '64 minutes', '87 minutes', '85 minutes', '86 minutes', '97 minutes', '74 minutes', '136 minutes', '90 minutes', '89 minutes', '65 minutes', '76 minutes', '40 minutes', '120 minutes', '84 minutes', '113 minutes', '65 minutes', '115 minutes', '67 minutes', '131 minutes', '100 minutes', '79 minutes', '68 minutes', '95 minutes', '97 minutes', '75 minutes', '97 minutes', '119 minutes', '100 minutes', '76 minutes', '68 minutes', '67 minutes', '120 minutes', '81 minutes', '143 minutes', '72 minutes', '118 minutes', '72 minutes', '40 minutes', '120 minutes', '99 minutes', '82 minutes', '117 minutes', '72 minutes', '150 minutes', '104 minutes', '73 minutes', '76 minutes', '92 minutes', '69 minutes', '70 minutes', '95 minutes', '94 minutes', '167 minutes', '111 minutes', '85 minutes', '82 minutes', '87 minutes', '110 minutes', '107 minutes', '124 minutes', '74 minutes', '82 minutes', '150 minutes', '97 minutes', '77 minutes', '78 minutes', '91 minutes', '100 minutes', '112 minutes', '93 minutes', '96 minutes', '99 minutes', [], '98 minutes', '97 minutes', [], '101 minutes', '96 minutes', 'N/A', '90 minutes', '101 minutes', '82 minutes', '107 minutes', '101 minutes', '96 minutes', '88 minutes', '97 minutes', '108 minutes', [], '116 minutes', '103 minutes', '109 minutes', '115 minutes', '79 minutes', '74 minutes', '123 minutes', '108 minutes', '100 minutes', '125 minutes', 'N/A', '84 minutes', '90 minutes', '88 minutes', '109 minutes', '89 minutes', '104 minutes', '137 minutes', '106 minutes', '63 minutes', '88 minutes', '103 minutes', '93 minutes', '95 minutes', '132 minutes', '77 minutes', '96 minutes', '93 minutes', '104 minutes', '75 minutes', '89 minutes', '87 minutes', '101 minutes', '130 minutes', '77 minutes', '104 minutes', '149 minutes', '92 minutes', '81 minutes', '102 minutes', '125 minutes', '78 minutes', '107 minutes', '77 minutes', '124 minutes', '97 minutes', '84 minutes', '127 minutes', '81 minutes', '102 minutes', '124 minutes', '129 minutes', '76 minutes', '106 minutes', '82 minutes', '130 minutes', '95 minutes', '154 minutes', '97 minutes', '117 minutes', '108 minutes', '106 minutes', '99 minutes', '113 minutes', '97 minutes', '118 minutes', '103 minutes', '124 minutes', '107 minutes', '161 minutes', '80 minutes', '129 minutes', '76 minutes', '129 minutes', '102 minutes', 'N/A', '162 minutes', '114 minutes', '105 minutes', '109 minutes', '118 minutes', '104 minutes', '99 minutes', '112 minutes', '131 minutes', '112 minutes', '76 minutes', '128 minutes', '100 minutes', '118 minutes', '119 minutes', '104 minutes', '100 minutes', '104 minutes', '114 minutes', '99 minutes', '102 minutes', '107 minutes', '78 minutes', '89 minutes', '95 minutes', '160 minutes', '85 minutes', '100 minutes', '95 minutes', '115 minutes', '113 minutes', '119 minutes', '100 minutes', '121 minutes', '95 minutes', '107 minutes', '134 minutes', '95 minutes', '127 minutes', 'N/A', 'N/A', 'N/A', 'N/A', 'N/A', 'N/A', 'N/A', 'N/A', 'N/A', 'N/A', '102 minutes', 'N/A', 'N/A', '85 minutes', '124 minutes', 'N/A', 'N/A', '83 minutes', '86 minutes', '108 minutes', '81 minutes', '70 minutes', '90 minutes', '91 minutes', '93 minutes', '78 minutes', 'N/A', '83 minutes', 'N/A', '79 minutes', []]\n"
          ]
        }
      ]
    },
    {
      "cell_type": "code",
      "metadata": {
        "id": "GeSbABnnOyyS"
      },
      "source": [
        "def minutes_to_integer(time):\n",
        "\n",
        "  if time == \"N/A\":\n",
        "    return None\n",
        "  if isinstance(time,list):\n",
        "    if len(time) >0:\n",
        "      return int(time[0].split(\" \")[0])\n",
        "    else:\n",
        "      return None\n",
        "  else:\n",
        "    return int(time.split(\" \")[0])\n"
      ],
      "execution_count": null,
      "outputs": []
    },
    {
      "cell_type": "code",
      "metadata": {
        "id": "eWj_g-AU5KlF"
      },
      "source": [
        "for movie in movie_info_list:\n",
        "  if movie[\"title\"] == \"The Happiest Millionaire\":\n",
        "    movie[\"Running time\"] = \"164 minutes\""
      ],
      "execution_count": null,
      "outputs": []
    },
    {
      "cell_type": "code",
      "metadata": {
        "id": "zxM2rnu5PuIm"
      },
      "source": [
        "for movie in movie_info_list:\n",
        "  movie['Running time (int)'] = minutes_to_integer(movie.get('Running time','N/A'))"
      ],
      "execution_count": null,
      "outputs": []
    },
    {
      "cell_type": "code",
      "metadata": {
        "colab": {
          "base_uri": "https://localhost:8080/"
        },
        "id": "1ILzQmOzABjn",
        "outputId": "557a26a5-dd94-40cd-ed09-191961d0a1fc"
      },
      "source": [
        "movie_info_list[0]"
      ],
      "execution_count": null,
      "outputs": [
        {
          "output_type": "execute_result",
          "data": {
            "text/plain": [
              "{'Box office': '$45.472',\n",
              " 'Country': 'United States',\n",
              " 'Distributed by': 'RKO Radio Pictures',\n",
              " 'Language': 'English',\n",
              " 'Production company': 'Walt Disney Productions',\n",
              " 'Release date': ['May 19, 1937'],\n",
              " 'Running time': '41 minutes (74 minutes 1966 release)',\n",
              " 'Running time (int)': 41,\n",
              " 'title': 'Academy Award Review of'}"
            ]
          },
          "metadata": {},
          "execution_count": 27
        }
      ]
    },
    {
      "cell_type": "code",
      "metadata": {
        "colab": {
          "base_uri": "https://localhost:8080/"
        },
        "id": "0e2A9CWtAOuS",
        "outputId": "d6f76bbc-0962-4848-8910-2d67ca400027"
      },
      "source": [
        "print([movie.get('Running time (int)') for movie in movie_info_list])"
      ],
      "execution_count": null,
      "outputs": [
        {
          "output_type": "stream",
          "name": "stdout",
          "text": [
            "[41, 83, 88, 126, 74, 64, 70, 42, 70, 71, 75, 94, 73, 75, 82, 68, 74, 96, 75, 84, 77, 92, 69, 81, None, 127, 92, 76, 75, 73, 85, 81, 70, 90, 80, 75, 83, 83, 72, 97, 75, 104, 93, 105, 95, 97, 134, 69, 92, 131, 79, 97, 128, 74, 91, 105, 98, 130, 89, 93, 67, 98, 100, 118, 103, 110, 80, 79, 91, 91, 97, 118, 139, 131, 92, 87, 116, 93, 110, 110, 131, 101, 108, 84, 78, 75, 164, 106, 110, 99, 113, 108, 112, 93, 91, 93, 100, 100, 79, 96, 113, 89, None, 92, 88, 92, 87, 93, 93, 93, 90, 83, 96, 88, 89, 91, 93, 92, 97, 100, 100, 89, 91, 112, 115, 95, 91, 95, 104, 74, 48, 77, 104, 128, 101, 94, 104, 90, 100, 88, 93, 98, 112, 84, 97, 97, 114, 96, 97, 109, 83, 90, 107, 96, 103, 91, 95, 105, 113, 80, 101, 90, 74, 90, 89, 110, 74, 93, 84, 83, 74, 77, 107, 93, 88, 108, 84, 121, 89, 104, 90, 86, 84, 108, 107, 96, 98, 105, 108, 94, 106, 102, 88, 102, 102, 97, 111, 100, 96, 98, 78, 81, 108, 89, 99, 89, 81, 92, 100, 89, 79, 91, 101, 104, 103, 86, 105, 75, 93, 92, 98, 95, 93, 87, 93, 87, 128, 86, 95, 114, 93, 83, 83, 88, 78, 112, 92, 74, 78, 72, 82, 104, 113, 100, 78, 83, 69, 96, 115, 86, 92, 99, 73, 73, 128, 85, 88, 125, 96, 104, 95, 74, 72, 88, 75, 61, 117, 94, 100, 143, 97, 64, 87, 85, 86, 97, 74, 136, 90, 89, 65, 76, 40, 120, 84, 113, 65, 115, 67, 131, 100, 79, 68, 95, 97, 75, 97, 119, 100, 76, 68, 67, 120, 81, 143, 72, 118, 72, 40, 120, 99, 82, 117, 72, 150, 104, 73, 76, 92, 69, 70, 95, 94, 167, 111, 85, 82, 87, 110, 107, 124, 74, 82, 150, 97, 77, 78, 91, 100, 112, 93, 96, 99, None, 98, 97, None, 101, 96, None, 90, 101, 82, 107, 101, 96, 88, 97, 108, None, 116, 103, 109, 115, 79, 74, 123, 108, 100, 125, None, 84, 90, 88, 109, 89, 104, 137, 106, 63, 88, 103, 93, 95, 132, 77, 96, 93, 104, 75, 89, 87, 101, 130, 77, 104, 149, 92, 81, 102, 125, 78, 107, 77, 124, 97, 84, 127, 81, 102, 124, 129, 76, 106, 82, 130, 95, 154, 97, 117, 108, 106, 99, 113, 97, 118, 103, 124, 107, 161, 80, 129, 76, 129, 102, None, 162, 114, 105, 109, 118, 104, 99, 112, 131, 112, 76, 128, 100, 118, 119, 104, 100, 104, 114, 99, 102, 107, 78, 89, 95, 160, 85, 100, 95, 115, 113, 119, 100, 121, 95, 107, 134, 95, 127, None, None, None, None, None, None, None, None, None, None, 102, None, None, 85, 124, None, None, 83, 86, 108, 81, 70, 90, 91, 93, 78, None, 83, None, 79, None]\n"
          ]
        }
      ]
    },
    {
      "cell_type": "markdown",
      "metadata": {
        "id": "ZdHVQWlfAiBO"
      },
      "source": [
        "4. Convert Budget & box office to numbers"
      ]
    },
    {
      "cell_type": "code",
      "metadata": {
        "colab": {
          "base_uri": "https://localhost:8080/"
        },
        "id": "drTiKd-gApwm",
        "outputId": "6a169578-9d15-43b7-b06b-db7ffe130614"
      },
      "source": [
        "print([movie.get('Budget') for movie in movie_info_list])"
      ],
      "execution_count": null,
      "outputs": [
        {
          "output_type": "stream",
          "name": "stdout",
          "text": [
            "[None, '$1.49 million', '$2.6 million', '$2.28 million', '$600,000', '$950,000', '$858,000', None, '$788,000', None, '$1.35 million', '$2.125 million', None, '$1.5 million', '$1.5 million', None, '$2.2 million', '$1,800,000', '$3 million', None, '$4 million', '$2 million', '$300,000', '$1.8 million', None, '$5 million', None, '$4 million', None, None, None, None, None, None, '$700,000', None, None, None, None, None, '$6 million', 'under $1 million or $1,250,000', None, '$2 million', None, None, '$2.5 million', None, None, '$4 million', '$3.6 million', None, None, None, None, '$3 million', None, '$3 million', None, None, None, None, None, None, None, None, None, '$3 million', None, None, None, None, '$4.4–6 million', None, None, None, None, None, None, None, None, None, None, None, '$4 million', None, '$5 million', None, None, None, None, '$5 million', None, None, None, None, None, None, '$4 million', None, None, None, '$6.3 million', None, None, None, None, None, None, None, None, '$5 million', None, None, None, None, '$8 million', None, None, None, None, None, 'AU$1 million', None, None, None, None, '$5 million', None, None, None, '$7.5 million', None, '$10 million', None, None, '$3.5 to 4 million', None, None, None, '$5.25 million', '$20 million', None, '$9 million', None, '$6-8 million', '$20 million', None, None, '$18 million', '$12 million', '$14 million', None, '', '$5 million', 'unknown', '$20 million', '$11 million', '$28 million', '$44 million', None, None, '$14 million', '$9 million', None, 'A$8.7 million', '$31 million', '$18 million', '$5 million', '$40 million', '$20 million', None, '$14 million', '60 million Norwegian Kroner (around $8.7 million in 1989)', None, '$35-40 million', '$25 million', '$15 million', '$40 million', '$14 million', '$28 million', '$12 million', None, None, '$6.5 million', '$28 million', '$17 million', '$30 million', None, '$13 million', None, None, '$45 million', '$31 million', None, '$22 million', '$30 million', None, '$22 million', [], '$18 million', '$55 million', '$24 million', '$15 million', '$12 million', None, '$30 million', None, '$31 million', None, '$38 million', '$70 million', '$15 million', None, '$67 million', None, '$32 million', '$7 million', '$85 million', '$55 million', '$3 million', '$16 million', '$80 million', '$30 million', '$24 million', '$90 million', '$15 million', '$30 million', '$120 million', '$90 million', '$65 million', '$5 million', None, '$130 million', '$75–90 million', '$10 million', '$90 million', '$80–$85 million', '$15 million –$30 million', '$4,000,000 (estimated)', '$127.5 million', '$65 million', '$30 million', '$85 million', '$100 million', '$23 million', None, '$90–120 million', '$26 million', '$25 million', '$115 million', '$33 million', '$20 million', '$5 million', '$22 million', '$80 million', '$35 million', '(US$15–19.2 million)', '$15 million', '$65 million', '$140 million', None, '$20 million', '$12 million', '$46 million', '$13 million', '$20 million', '$17 million', '$94 million', '$140 million', '$26 million', None, None, '$46 million', '$90 million', None, '$10 million', '$28 million', None, '$15 million', None, '$110 million', None, '$110 million', None, '$45 million', None, '$92 million', None, '$100 million', None, None, '$20 million', '$56 million', '$25 million', None, '$50 million', ['¥'], '$35 million', '$35 million', None, None, '$25 million', '$150 million', '$180 million', None, '$30 million', None, '$1 million', '$40 million', '$50 million', '$80 million', '$120 million', None, '$225 million', '$30 million', None, '$24 million', '$12 million', None, None, '$20–25 million', '$150 million', '$300 million', '$150 million', None, '$25 million', None, '$22 million', '$85 million', '$130 million', '$7 million', '$25 million', '$225 million', '$180 million', None, '$50 million', '$20 million', None, '$11 million', None, '$150 million', '$80 million', None, '$50 million', '$30 million', '$47 million', None, '$175 million', None, '$150 million', ['¥', 'US$'], '$30—$35 million', None, '$8 million ( ₽ 350 million)', '$175-200 million', '$35 million', '$105 million', '$150 –$200 million', '$80 million', '$150–200 million', '$200 million', '$150 million', '$22 million', '$30—$35 million', None, '$35 million', None, '$260 million', '$170 million', '', None, None, '$150 million', None, '$5 million', '$8 million', ['$410.6 million (gross)', '$378.5 million (net)'], '$200 million', '$30 million', None, '$45 million', None, '$23 million', ['$306.6 million (gross)', '$263.7 million (net)'], '$5 million', None, '$185 million', '$25 million', '$30—35 million', None, '$39 million', '$165 million', '$200–215 million', None, '$200 million', '$225–250 million', '$50 million', None, '$150 million', '$35 million', None, '$51 million', '$5 million', '$25 million', '$180–263 million', '$50 million', '(US$3.1 million)', '$28 million', '$165 million', '$50 million', '$17 million', None, '$84.21-95 million', '$5–10 million', '$180–190 million', '$175 million', '', '$175–200 million', '$70–80 million', '$150 million', '$175–177 million', None, '$170 million', '$175–200 million', '$140 million', '$65 million', '$15 million', '$150–175 million', '70 crore', '$8 million', '$160–255 million', '$5–10 million', '$230–320 million', '$175 million', None, [], ['₽'], '$175–225 million', '$100–130 million', '$200 million', '$75 million', '$120–133 million', '$175 million', '$130 million', '$170 million', None, '$183 million', '$200 million', '$250–260 million', '$185 million', '$60 million', None, '$150 million', '$40 million', '$42 million', '$175–200 million', None, None, None, '$125 million', '$12.5 million (stage production)', None, '$24 million', None, '$200 million', None, None, '$150 million+', '₽ 650 million', None, '$100 million+', '$100–200 million', None, '$200 million', None, None, None, None, None, None, None, None, None, None, '$11 million', None, '$53.4 million', '$80 million', '$130 million', None, None, '$1.49 million', '$90 million', '$35-40 million', '$28 million', '$858,000', '$9 million', '$70 million', '$85 million', '$75–90 million', None, '$5 million', None, '$3 million', None]\n"
          ]
        }
      ]
    },
    {
      "cell_type": "code",
      "metadata": {
        "id": "raA8i2YwQfgQ"
      },
      "source": [
        "import re"
      ],
      "execution_count": null,
      "outputs": []
    },
    {
      "cell_type": "code",
      "metadata": {
        "colab": {
          "base_uri": "https://localhost:8080/"
        },
        "id": "fzMChx99QFgM",
        "outputId": "dbd11a8c-ab22-44f2-dd60-f54578ac9b6c"
      },
      "source": [
        "import re\n",
        "\n",
        "amounts = r\"thousand|million|billion\"\n",
        "number = r\"\\d+(,\\d{3})*\\.*\\d*\"\n",
        "\n",
        "word_re = rf\"\\${number}(-|\\sto\\s)?({number})?\\s({amounts})\"\n",
        "value_re = rf\"\\${number}\"\n",
        "\n",
        "def word_to_value(word):\n",
        "  value_dict = {\"thousand\":1000,\"million\":1000000,\"billion\":1000000000}\n",
        "  return value_dict[word]\n",
        "\n",
        "def parse_word_syntax(string):\n",
        "  value_string = re.search(number,string).group()\n",
        "  value = float(value_string.replace(\",\",\"\"))\n",
        "  word = re.search(amounts,string,flags=re.I).group()\n",
        "  word = word.lower()\n",
        "  word_value = word_to_value(word)\n",
        "  return value*word_value\n",
        "\n",
        "def parse_value_syntax(string):\n",
        "  value_string = re.search(number,string).group()\n",
        "  value = float(value_string.replace(\",\",\"\"))\n",
        "  return value\n",
        "\n",
        "def money_conversion(money):\n",
        "    if money == \"N/A\":\n",
        "      return None\n",
        "\n",
        "    if isinstance(money,list):\n",
        "      if len(money)>0:\n",
        "        money = money[0]\n",
        "      else:\n",
        "        return None\n",
        "\n",
        "    word_syntax = re.search(word_re,money,flags=re.I)\n",
        "    value_syntax = re.search(value_re,money)\n",
        "  \n",
        "    if word_syntax:\n",
        "      return parse_word_syntax(word_syntax.group())\n",
        "    elif value_syntax:\n",
        "      return parse_value_syntax(value_syntax.group())\n",
        "    else:\n",
        "      return None\n",
        "\n",
        "\n",
        "print(money_conversion(\"$3 Million\"))"
      ],
      "execution_count": null,
      "outputs": [
        {
          "output_type": "stream",
          "name": "stdout",
          "text": [
            "3000000.0\n"
          ]
        }
      ]
    },
    {
      "cell_type": "code",
      "metadata": {
        "id": "nE3jiD4i6XRU"
      },
      "source": [
        "for movie in movie_info_list:\n",
        "  movie['Budget (float)'] = money_conversion(movie.get('Budget','N/A'))\n",
        "  movie['Box office (float)'] = money_conversion(movie.get('Box office','N/A'))"
      ],
      "execution_count": null,
      "outputs": []
    },
    {
      "cell_type": "code",
      "metadata": {
        "colab": {
          "base_uri": "https://localhost:8080/"
        },
        "id": "v6bW2_tuCSaw",
        "outputId": "ebe83bb0-a5c6-4602-c13b-5f0eec92f080"
      },
      "source": [
        "movie_info_list[-10]"
      ],
      "execution_count": null,
      "outputs": [
        {
          "output_type": "execute_result",
          "data": {
            "text/plain": [
              "{'Based on': ['Bambi, a Life in the Woods', 'Felix Salten'],\n",
              " 'Box office': '$267.4 million',\n",
              " 'Box office (float)': 267399999.99999997,\n",
              " 'Budget': '$858,000',\n",
              " 'Budget (float)': 858000.0,\n",
              " 'Country': 'United States',\n",
              " 'Directed by': ['David Hand', 'James Algar'],\n",
              " 'Distributed by': 'RKO Radio Pictures',\n",
              " 'Language': 'English',\n",
              " 'Music by': ['Frank Churchill', 'Edward H. Plumb'],\n",
              " 'Produced by': 'Walt Disney',\n",
              " 'Production company': 'Walt Disney Productions',\n",
              " 'Release date': ['August 9, 1942 (World Premiere – London)',\n",
              "  'August 13, 1942 (Premiere – New York City)',\n",
              "  'August 21, 1942 (U.S.)'],\n",
              " 'Running time': '70 minutes',\n",
              " 'Running time (int)': 70,\n",
              " 'Starring': 'see below',\n",
              " 'Story by': ['Perce Pearce',\n",
              "  'Larry Morey',\n",
              "  'Vernon Stallings',\n",
              "  'Melvin Shaw',\n",
              "  'Carl Fallberg',\n",
              "  'Ralph Wright'],\n",
              " 'title': 'Bambi'}"
            ]
          },
          "metadata": {},
          "execution_count": 70
        }
      ]
    },
    {
      "cell_type": "markdown",
      "metadata": {
        "id": "qHrKb7lqEYHa"
      },
      "source": [
        "5. Convert dates into datetime object"
      ]
    },
    {
      "cell_type": "code",
      "metadata": {
        "colab": {
          "base_uri": "https://localhost:8080/"
        },
        "id": "J60SxeTwEmyC",
        "outputId": "2ab92690-6b3e-4013-fe5e-ed992f62dc60"
      },
      "source": [
        "print([movie.get('Release date') for movie in movie_info_list])"
      ],
      "execution_count": null,
      "outputs": [
        {
          "output_type": "stream",
          "name": "stdout",
          "text": [
            "[['May 19, 1937'], ['December 21, 1937 ( Carthay Circle Theatre )'], ['February 7, 1940 ( Center Theatre )', 'February 23, 1940 (United States)'], ['November 13, 1940'], ['June 27, 1941'], ['October 23, 1941 (New York City)', 'October 31, 1941 (U.S.)'], ['August 9, 1942 (World Premiere – London)', 'August 13, 1942 (Premiere – New York City)', 'August 21, 1942 (U.S.)'], ['August 24, 1942 (World Premiere – Rio de Janeiro)', 'February 6, 1943 (U.S. Premiere – Boston)', 'February 19, 1943 (U.S.)'], ['July 17, 1943'], ['December 21, 1944 (Mexico City)', 'February 3, 1945 (US)'], ['April 20, 1946 (New York City premiere)', 'August 15, 1946 (U.S.)'], ['November 12, 1946 (Premiere: Atlanta, Georgia)', 'November 20, 1946', 'March 30, 1947 (Stanford Theatre, Palo Alto, California)'], ['September 27, 1947'], 'May 27, 1948', [], ['October 5, 1949'], ['February 15, 1950 (Boston)', 'March 4, 1950 (United States)'], ['June 22, 1950 (World Premiere-London)', 'July 29, 1950 (US)'], ['July 26, 1951 (London, premiere)', 'July 28, 1951 (New York City, premiere)'], ['March 13, 1952 (Premiere- London )', 'June 26, 1952 ( US )'], ['February 5, 1953 (United States)'], [\"July 23, 1953 ('US )\"], ['November 10, 1953'], ['26 October 1953 (Premiere- London )', '27 February 1954 ( US )'], ['August 17, 1954'], ['December 23, 1954'], 'May 25, 1955', ['June 22, 1955'], ['September 14, 1955'], 'December 22, 1955', 'June 8, 1956', 'July 18, 1956', ['September 4, 1956'], ['December 20, 1956'], 'June 19, 1957', 'August 28, 1957', ['December 25, 1957'], ['July 8, 1958'], ['August 12, 1958'], ['December 25, 1958'], ['January 29, 1959'], ['March 19, 1959'], ['June 24, 1959 (Dublin)', 'June 26, 1959 (Los Angeles)'], ['November 10, 1959'], 'January 21, 1960 ( Sarasota, FL )', ['February 24, 1960'], 'May 19, 1960', ['June 1960 ( Berlin )', 'August 10, 1960 (US)'], ['November 1, 1960'], ['December 21, 1960'], ['January 25, 1961'], 'March 16, 1961', ['June 21, 1961'], ['July 12, 1961'], ['July 17, 1961'], ['December 14, 1961'], 'April 5, 1962', ['May 17, 1962'], ['June 6, 1962'], 'September 26, 1962', ['November 7, 1962 (Los Angeles)'], ['November 14, 1962 (London, premiere)', 'December 19, 1962 (US)'], ['January 16, 1963'], ['March 29, 1963 (U.S.)'], ['June 1, 1963'], ['July 7, 1963'], 'November 20, 1963', ['December 25, 1963'], ['March 12, 1964'], ['February 11, 1964 (Los Angeles)'], ['11 December 1963 ( New York City )', '4 June 1964 (U.S.)'], ['July 2, 1964'], ['August 27, 1964 (LA)', 'September 24, 1964 (NY)'], 'November 10, 1964', ['December 18, 1964'], ['August 18, 1965 (Los Angeles)'], ['December 2, 1965'], ['February 4, 1966 (premiere)', 'February 16, 1966'], ['June 25, 1966 (San Diego)', 'June 29, 1966 (U.S.)'], 'October 1, 1966', ['December 1, 1966'], ['February 8, 1967 (San Francisco)'], ['June 15, 1967 (uk)'], ['July 12, 1967'], ['October 18, 1967'], ['October 19, 1967'], ['June 23, 1967', 'November 30, 1967'], ['February 8, 1968'], ['March 21, 1968 ( Radio City Music Hall )'], ['June 26, 1968'], ['December 3, 1968'], ['December 24, 1968 (limited)', 'March 13, 1969 (wide)'], ['May 9, 1969'], 'September 4, 1969', ['November 28, 1969'], ['February 11, 1970'], 'July 1, 1970', ['December 15, 1970', 'January 20, 1971'], ['December 11, 1970 (premiere)', 'December 24, 1970 (United States)'], 'March 17, 1971', 'June 22, 1971', ['June 30, 1971'], ['October 7, 1971 (United Kingdom)', 'December 13, 1971 (United States)'], ['March 22, 1972 (US)'], 'July 12, 1972', ['July 5, 1972'], ['October 18, 1972'], ['December 22, 1972'], 'February 1, 1973', ['March 23, 1973'], ['June 20, 1973'], ['November 8, 1973'], ['December 14, 1973'], ['June 6, 1974'], ['July 31, 1974'], ['August 1, 1974'], 'December 20, 1974 (with Winnie the Pooh and Tigger Too )', ['February 6, 1975'], ['March 21, 1975 (United States)'], ['July 1, 1975'], ['July 9, 1975'], ['October 8, 1975'], 'December 25, 1975', ['February 11, 1976 (Los Angeles)'], ['July 1, 1976'], ['July 7, 1976'], ['December 16, 1976'], ['December 17, 1976'], [], ['March 11, 1977'], ['June 20, 1977'], ['June 22, 1977'], ['June 24, 1977'], ['November 3, 1977'], 'December 16, 1977', ['March 10, 1978'], ['June 30, 1978 (New York)'], 'July 5, 1978', 'February 9, 1979', ['June 27, 1979'], [], ['December 18, 1979 (United Kingdom)', 'December 21, 1979 (United States)'], ['February 8, 1980'], ['April 17, 1980 (New York City)', 'October 9, 1981 (U.S.)'], ['June 27, 1980'], ['July 9, 1980 (Los Angeles)'], ['December 6, 1980 ( Los Angeles )', 'December 12, 1980 ( United States )'], 'February 11, 1981 (Los Angeles)', 'March 20, 1981', ['June 26, 1981'], ['July 10, 1981'], ['August 7, 1981'], 'February 5, 1982', ['July 9, 1982'], 'July 30, 1982', ['March 11, 1983'], ['April 29, 1983 (United States)'], [], ['June 21, 1985 (United States)'], ['July 24, 1985'], ['September 27, 1985'], ['November 22, 1985'], ['July 2, 1986'], ['August 1, 1986'], ['June 5, 1987'], ['24 March 1988 (Australia)'], ['November 18, 1988'], ['June 23, 1989'], 'August 18, 1989', ['November 17, 1989'], ['August 3, 1990'], ['November 16, 1990'], ['January 18, 1991'], ['3 October 1990'], ['May 24, 1991'], ['June 21, 1991'], ['September 29, 1991 ( NYFF )', 'November 22, 1991 (United States)'], ['April 10, 1992'], ['July 17, 1992'], ['October 2, 1992'], ['November 25, 1992'], ['December 11, 1992'], 'February 3, 1993', ['March 12, 1993'], ['April 2, 1993'], ['July 16, 1993'], ['October 1, 1993'], ['November 12, 1993'], ['January 14, 1994'], ['February 11, 1994'], ['April 17, 1994'], ['April 14, 1994'], ['June 15, 1994 (United States)'], ['July 15, 1994'], ['October 28, 1994'], ['November 11, 1994'], ['December 25, 1994'], ['February 17, 1995'], ['March 3, 1995'], ['March 24, 1995'], ['April 7, 1995'], ['June 10, 1995', 'June 23, 1995'], ['July 28, 1995'], ['August 11, 1995'], ['September 28, 1995'], ['January 22, 1995 ( Sundance Film Festival )', 'October 20, 1995 (U.S.)'], ['November 19, 1995 ( El Capitan Theatre )', 'November 22, 1995 (United States)'], ['December 22, 1995'], ['February 16, 1996'], ['March 8, 1996'], ['April 12, 1996 (United States)', 'August 2, 1996 (United Kingdom)'], ['June 21, 1996'], ['August 30, 1996'], ['October 4, 1996'], ['November 27, 1996 (United States)'], ['February 14, 1997'], ['March 7, 1997 (US)', 'August 5, 1997 (France)'], 'March 18, 1997', ['June 13, 1997 (limited release)', 'June 27, 1997 (wide release)'], ['July 16, 1997'], ['August 1, 1997'], ['October 10, 1997'], ['November 16, 1997 ( Pennsylvania )', 'November 26, 1997 (United States)'], ['December 25, 1997'], ['March 27, 1998 (United States)'], ['June 19, 1998'], ['July 29, 1998 (United States)'], ['November 13, 1998'], ['November 20, 1998'], ['December 25, 1998'], ['February 12, 1999'], ['March 26, 1999'], ['May 14, 1999'], ['June 12, 1999 ( El Capitan Theatre )', 'June 16, 1999 (United States )'], ['July 23, 1999'], ['May 1999 ( Cannes )', 'October 15, 1999 (United States)'], ['November 13, 1999 ( El Capitan Theatre )', 'November 24, 1999 (United States)'], ['December 17, 1999 (Premiere)', 'January 1, 2000 ( IMAX )', 'June 16, 2000 (United States)'], ['February 11, 2000 (United States)'], ['March 10, 2000'], ['May 19, 2000 (United States)'], ['July 7, 2000'], ['September 29, 2000'], ['November 22, 2000 (United States)'], ['December 15, 2000'], ['February 10, 2001 (premiere)', 'February 16, 2001 (United States)'], ['February 27, 2001'], ['June 3, 2001 (premiere)', 'June 15, 2001 (United States)'], ['July 29, 2001 ( El Capitan Theatre )', 'August 3, 2001 (United States)'], ['October 5, 2001'], ['October 28, 2001 ( El Capitan Theatre )', 'November 2, 2001 (United States)'], ['January 18, 2002'], ['February 10, 2002 ( New York City )', 'February 15, 2002 (United States)'], ['February 26, 2002'], ['March 29, 2002'], ['June 21, 2002'], ['July 21, 2002', 'July 26, 2002'], ['20 July 2001 (Japan)'], ['October 11, 2002 (U.S.)'], ['November 1, 2002'], ['November 27, 2002'], ['January 21, 2003'], ['February 14, 2003'], ['March 11, 2003'], ['March 16, 2003 (premiere)', 'March 21, 2003 (United States)', 'July 2, 2003 ( Manila , Philippines )'], ['March 31, 2003 (premiere)', 'April 11, 2003 (limited)'], ['April 18, 2003 (United States)'], ['May 2, 2003 (United States)'], ['May 30, 2003'], ['June 28, 2003 ( Disneyland Resort )', 'July 9, 2003 (United States)'], ['August 4, 2003 ( Los Angeles )', 'August 6, 2003 (United States)'], ['August 26, 2003'], ['October 21, 2003'], ['November 1, 2003'], ['November 26, 2003'], ['December 25, 2003'], ['January 16, 2004'], ['February 20, 2004'], ['February 10, 2004'], ['February 17, 2004 (United States)'], ['March 9, 2004'], ['April 2, 2004'], ['April 22, 2004'], ['June 16, 2004'], ['July 2, 2004'], ['August 11, 2004'], ['August 20, 2004'], ['October 24, 2004 ( El Capitan Theatre )', 'October 27, 2004 ( BFI London Film Festival )', 'November 5, 2004 (United States)'], ['November 9, 2004'], ['November 19, 2004'], ['January 28, 2005'], ['November 3, 2004 (Italy)', 'February 1, 2005 (United States)'], ['February 11, 2005'], ['March 4, 2005'], ['March 18, 2005'], ['June 14, 2005'], ['June 22, 2005'], ['5 September 2004 ( Venice )', '20 November 2004 (Japan)'], ['July 29, 2005'], ['March 25, 2005 (UK)', 'August 19, 2005 (US)'], ['August 30, 2005'], ['September 13, 2005'], ['September 30, 2005'], ['October 30, 2005 ( El Capitan Theatre )', 'November 4, 2005 (United States)'], ['December 7, 2005 ( Royal Film Performance )', 'December 8, 2005 (United Kingdom)', 'December 9, 2005 (United States)'], 'December 13, 2005', 'January 13, 2006', ['January 26, 2006 (Argentina)', 'February 7, 2006 (United States)'], ['January 27, 2006'], ['February 17, 2006 (United States)'], ['March 10, 2006'], ['April 14, 2006'], [\"May 26, 2006 ( Lowe's Motor Speedway )\", 'June 9, 2006 (United States)'], ['June 23, 2006', 'June 27, 2006'], ['June 24, 2006 ( Disneyland Resort )', 'July 7, 2006 (United States)'], ['August 25, 2006'], ['August 29, 2006'], ['October 13, 1993 (limited)', 'October 29, 1993 (United States)'], ['November 3, 2006'], ['December 12, 2006'], ['February 6, 2007'], ['February 16, 2007'], ['March 23, 2007 (US)', 'March 30, 2007 (UK)'], ['May 19, 2007 ( Disneyland Resort )', 'May 25, 2007 (United States)'], ['June 22, 2007 ( Kodak Theatre )', 'June 29, 2007 (United States)'], ['June 29, 2007'], ['August 3, 2007'], ['August 28, 2007'], ['September 23, 2007 ( Hollywood )', 'September 28, 2007 (United States)'], ['October 20, 2007 ( London )', 'November 21, 2007 (United States)'], ['December 21, 2007'], 'February 1, 2008', ['March 7, 2008'], ['May 7, 2008 ( New York City )', 'May 16, 2008 (United States)', 'June 26, 2008 (United Kingdom)'], ['June 23, 2008 ( Los Angeles )', 'June 27, 2008 (United States)'], ['August 26, 2008'], ['October 28, 2008'], ['October 3, 2008 (United States)'], 'October 17, 2008', ['October 17, 2008 (London)', 'October 24, 2008 (United States)'], ['23 October 2008 (Kuwait)', '24 October 2008 (India and United States)'], ['November 21, 2008'], ['December 25, 2008'], ['February 27, 2009'], ['March 11, 2009 (Egypt)', 'March 13, 2009 (United States)'], ['April 10, 2009'], ['10 October 2007 (France)', '16 November 2007 (United Kingdom)', '12 January 2008 (Germany)', '22 April 2009 (United States)'], ['April 24, 2009 (San Francisco International Film Festival)', 'May 22, 2009 (United States)'], ['May 13, 2009 ( Cannes )', 'May 29, 2009 (United States)'], None, ['July 24, 2009'], ['July 19, 2008'], ['June 5, 2009 (Japan)', 'October 27, 2009 (United States)', 'February 15, 2010 (Hindi)'], ['2008'], ['October 29, 2009'], ['November 3, 2009 ( London )', 'November 6, 2009 (United States)'], ['November 25, 2009'], ['November 25, 2009 (Los Angeles premiere)', 'December 11, 2009 (United States)'], ['February 25, 2010 ( Odeon Leicester Square )', 'March 5, 2010 (United States)'], ['October 17, 2009 ( Tokyo International Film Festival )', 'January 24, 2010 (France)'], ['May 9, 2010 (London premiere)', 'May 28, 2010 (United States)'], ['June 12, 2010 ( Taormina Film Fest )', 'June 18, 2010 (United States)'], ['July 8, 2010 (Fantasia Film Festival)', 'July 14, 2010'], ['July 29, 2006'], ['August 13, 2010 (United Kingdom)', 'September 21, 2010 (United States)'], ['26 October 2008 ( France )', '29 September 2009 ( United Kingdom )'], ['September 30, 2010 ( Hollywood )', 'October 8, 2010 (United States)'], ['8 October 2010'], ['November 14, 2010 ( El Capitan Theatre )', 'November 24, 2010 (United States)'], ['November 30, 2010 (Tokyo)', 'December 17, 2010 (United States)'], ['14 January 2011 (India)'], ['February 1, 2011'], ['17 February 2011'], ['March 6, 2011 ( El Capitan Theatre )', 'March 11, 2011 (United States)'], ['22 April 2011'], ['April 22, 2011 (United States)', 'February 1, 2012 (France)', 'April 27, 2012 (United Kingdom)'], ['April 29, 2011'], ['May 7, 2011 ( Disneyland Resort )', 'May 20, 2011 (United States)'], ['June 18, 2011 (Hollywood)', 'June 24, 2011 (United States)'], ['April 6, 2011 (Belgium)', 'July 15, 2011 (United States)'], ['September 20, 2011'], ['November 4, 2011 (Savannah Film Festival)', 'November 23, 2011 (United States)'], ['January 31, 2012'], ['17 July 2010'], ['February 22, 2012 ( Los Angeles )', 'March 9, 2012 (United States)'], ['April 20, 2012 (United States)', 'February 20, 2013 (France)', 'May 3, 2013 (United Kingdom)'], ['25 May 2012'], ['June 10, 2012 ( SIFF )', 'June 22, 2012 (United States)'], ['August 15, 2012'], ['August 16, 2012 (Ukraine)', 'August 31, 2012 (United States (limited))', 'October 23, 2012 (DVD release)'], ['September 18, 2012'], ['September 20, 2012 (Fantastic Fest)', 'October 5, 2012 (United States)'], ['October 29, 2012 ( El Capitan Theatre )', 'November 2, 2012 (United States)'], ['February 14, 2013 ( El Capitan Theatre )', 'March 8, 2013 (United States)'], ['16 March 2011 (France)', '16 April 2013 (United States)'], ['June 5, 2013 ( BFI Southbank )', 'June 21, 2013 (United States)'], ['June 22, 2013 ( Hyperion Theatre )', 'July 3, 2013 (United States)'], ['August 2, 2013 ( EAA AirVenture Oshkosh )', 'August 9, 2013 (United States)'], ['August 27, 2013'], ['November 19, 2013 ( El Capitan Theatre )', 'November 22, 2013 (United States)'], ['October 20, 2013 ( BFI London Film Festival )', 'November 29, 2013 (United Kingdom)', 'December 13, 2013 (United States)', 'January 9, 2014 (Australia)'], ['February 13, 2014 (Denmark)', 'April 1, 2014 (United States)'], ['March 11, 2014 ( El Capitan Theatre )', 'March 21, 2014 (United States)'], ['April 18, 2014 (United States)'], ['May 6, 2014 ( El Capitan Theatre )', 'May 16, 2014 (United States)'], ['May 28, 2014 ( El Capitan Theatre )', 'May 30, 2014 (United States)'], ['July 15, 2014 ( El Capitan Theatre )', 'July 18, 2014 (United States)'], ['19 September 2014'], ['October 6, 2014 ( El Capitan Theatre )', 'October 10, 2014 (United States)'], ['October 23, 2014 ( Tokyo International Film Festival )', 'October 31, 2014 ( Abu Dhabi Film Festival )', 'November 7, 2014 (United States)'], ['December 8, 2014 ( Ziegfeld Theatre )', 'December 25, 2014 (United States)'], ['February 9, 2015 ( Hollywood )', 'February 20, 2015 (United States)'], ['December 12, 2014 (United Kingdom)', 'March 3, 2015 (United States)'], ['February 13, 2015 ( Berlin )', 'March 13, 2015 (United States)', 'March 27, 2015 (United Kingdom)'], ['April 17, 2015 (United States)'], ['May 9, 2015 ( Disneyland )', 'May 22, 2015 (United States)'], ['May 18, 2015 ( Cannes )', 'June 19, 2015 (United States)'], ['19 June 2015'], ['November 10, 2015 ( Paris )', 'November 25, 2015 (United States)'], ['January 25, 2016 ( TCL Chinese Theatre )', 'January 29, 2016 (United States)'], ['February 13, 2016 (Belgium)', 'March 4, 2016 (United States)'], ['April 4, 2016 ( El Capitan Theatre )', 'April 15, 2016 (United States)'], ['April 23, 2016 (Amsterdam)', 'May 6, 2016 (Spain)', 'May 12, 2016 (Italy)'], ['May 10, 2016 ( London )', 'May 27, 2016 (United States)'], ['June 8, 2016 ( El Capitan Theatre )', 'June 17, 2016 (United States)'], ['May 14, 2016 ( Cannes )', 'July 1, 2016 (United States)', 'July 22, 2016 (United Kingdom)'], ['August 8, 2016 ( El Capitan Theatre )', 'August 12, 2016 (United States)'], ['September 10, 2016 ( TIFF )', 'September 23, 2016 (United States)'], ['November 14, 2016 ( AFI Fest )', 'November 23, 2016 (United States)'], ['21 December 2016 (United States)', '23 December 2016 (India)'], ['26 January 2005'], ['February 23, 2017 ( Spencer House )', 'March 17, 2017 (United States)'], ['August 12, 2016 (China)', 'April 21, 2017 (United States)', 'August 23, 2017 (France)'], ['May 11, 2017 ( Shanghai Disney Resort )', 'May 26, 2017 (United States)'], ['May 23, 2017 ( Kannapolis )', 'June 16, 2017 (United States)'], ['June 30, 2017 (United States)'], ['14 July 2017'], ['October 29, 2017 ( Russia )'], ['October 20, 2017 ( Morelia )', 'November 22, 2017 (United States)'], ['February 26, 2018 ( El Capitan Theatre )', 'March 9, 2018 (United States)'], ['June 5, 2018 ( Los Angeles )', 'June 15, 2018 (United States)'], ['July 30, 2018 ( Burbank )', 'August 3, 2018 (United States)'], ['October 29, 2018 ( Dolby Theatre )', 'November 2, 2018 (United States)'], ['November 5, 2018 ( El Capitan Theatre )', 'November 21, 2018 (United States)'], ['November 29, 2018 ( Dolby Theatre )', 'December 19, 2018 (United States)'], ['March 11, 2019 ( Los Angeles )', 'March 29, 2019 (United States)'], ['April 17, 2019 (United States)'], ['May 8, 2019 ( Grand Rex )', 'May 24, 2019 (United States)'], ['June 11, 2019 ( El Capitan Theatre )', 'June 21, 2019 (United States)'], ['July 9, 2019 ( Hollywood )', 'July 19, 2019 (United States)'], ['October 18, 2019'], ['November 12, 2019 (United States)'], ['November 12, 2019 (United States)'], ['November 7, 2019 ( Dolby Theatre )', 'November 22, 2019 (United States)'], ['December 20, 2019 (United States)'], ['January 25, 2020 ( Sundance )', 'February 7, 2020 ( Disney+ )'], ['February 21, 2020 ( Berlinale )', 'March 6, 2020 (United States)'], ['March 13, 2020 (United States)'], ['March 28, 2018 (France)', 'April 3, 2020 ( Disney+ )'], ['April 3, 2020'], ['June 12, 2020'], ['July 3, 2020'], ['July 31, 2020'], ['August 14, 2020'], ['August 21, 2020 (United States)'], ['March 9, 2020 ( Hollywood )', 'September 4, 2020 (United States)'], ['December 4, 2020'], ['December 11, 2020 (United States)'], ['October 11, 2020 ( BFI Fest )', 'December 25, 2020 (United States)'], ['January 1, 2021 ( Russia )'], ['February 19, 2021'], ['March 5, 2021 (United States)'], ['May 18, 2021 ( El Capitan Theatre )', 'May 28, 2021 (United States)'], ['June 13, 2021 ( Aquarium of Genoa )', 'June 18, 2021 (United States)'], ['July 24, 2021 ( Disneyland Resort )', 'July 30, 2021 (United States)'], ['November 24, 2021'], ['December 23, 2021 ( Russia )'], ['March 11, 2022 (United States)'], 'May 26, 2023', None, ['2022'], None, ['2022'], None, ['2022'], ['November 25, 1987'], None, None, ['June 21, 2002'], ['December 21, 2007'], None, None, ['December 21, 1937 ( Carthay Circle Theatre )'], ['November 26, 2003'], ['June 21, 1991'], ['October 6, 2014 ( El Capitan Theatre )', 'October 10, 2014 (United States)'], ['August 9, 1942 (World Premiere – London)', 'August 13, 1942 (Premiere – New York City)', 'August 21, 1942 (U.S.)'], ['August 1, 1986'], ['June 21, 1996'], ['June 13, 1997 (limited release)', 'June 27, 1997 (wide release)'], ['July 23, 1999'], None, ['November 8, 1973'], None, ['December 25, 1963'], ['1', '2', '3', '4', '5', '6']]\n"
          ]
        }
      ]
    },
    {
      "cell_type": "code",
      "metadata": {
        "id": "XgZJrDiRLiy0"
      },
      "source": [
        "from datetime import datetime\n",
        "\n",
        "dates = [movie.get('Release date','N/A') for movie in movie_info_list]\n",
        "\n",
        "def clean_date(date):\n",
        "  return date.split(\"(\")[0].strip()\n",
        "\n",
        "def date_conversion(date):\n",
        "  if isinstance(date,list):\n",
        "    if len(date)>0:\n",
        "        date = date[0]\n",
        "    else:\n",
        "        return None\n",
        "\n",
        "  date_str = clean_date(date)\n",
        "  fmts = [\"%B %d, %Y\",\"%d %B %Y\"]\n",
        "  for fmt in fmts:\n",
        "    try:\n",
        "      return datetime.strptime(date_str,fmt)\n",
        "    except:\n",
        "      pass\n",
        "  return None\n"
      ],
      "execution_count": null,
      "outputs": []
    },
    {
      "cell_type": "code",
      "metadata": {
        "id": "RFOliHniTZTK"
      },
      "source": [
        "for movie in movie_info_list:\n",
        "  movie['Release date (datetime)'] = date_conversion(movie.get('Release date','N/A'))"
      ],
      "execution_count": null,
      "outputs": []
    },
    {
      "cell_type": "code",
      "metadata": {
        "colab": {
          "base_uri": "https://localhost:8080/"
        },
        "id": "Z3youBUAWPeR",
        "outputId": "1d70bf76-88d5-4279-d41a-e559df5e8caa"
      },
      "source": [
        "movie_info_list[10]"
      ],
      "execution_count": null,
      "outputs": [
        {
          "output_type": "execute_result",
          "data": {
            "text/plain": [
              "{'Based on': ['Casey at the Bat',\n",
              "  'Ernest Thayer',\n",
              "  'Peter and the Wolf',\n",
              "  'Sergei Prokofiev'],\n",
              " 'Box office': '$3.275 million (worldwide rentals)',\n",
              " 'Box office (float)': 3275000.0,\n",
              " 'Budget': '$1.35 million',\n",
              " 'Budget (float)': 1350000.0,\n",
              " 'Country': 'United States',\n",
              " 'Directed by': ['Jack Kinney',\n",
              "  'Clyde Geronimi',\n",
              "  'Hamilton Luske',\n",
              "  'Joshua Meador',\n",
              "  'Robert Cormack'],\n",
              " 'Distributed by': 'RKO Radio Pictures, Inc.',\n",
              " 'Language': 'English',\n",
              " 'Music by': ['Eliot Daniel',\n",
              "  'Ken Darby',\n",
              "  'Charles Wolcott',\n",
              "  'Oliver Wallace',\n",
              "  'Edward Plumb'],\n",
              " 'Produced by': 'Walt Disney',\n",
              " 'Production company': 'Walt Disney Productions',\n",
              " 'Release date': ['April 20, 1946 (New York City premiere)',\n",
              "  'August 15, 1946 (U.S.)'],\n",
              " 'Release date (datetime)': datetime.datetime(1946, 4, 20, 0, 0),\n",
              " 'Running time': '75 minutes',\n",
              " 'Running time (int)': 75,\n",
              " 'Starring': 'Nelson Eddy',\n",
              " 'Story by': ['James Bodrero',\n",
              "  'Homer Brightman',\n",
              "  'Erwin Graham',\n",
              "  'Eric Gurney',\n",
              "  'T. Hee',\n",
              "  'Sylvia Holland',\n",
              "  'Dick Huemer',\n",
              "  'Dick Kelsey',\n",
              "  'Dick Kinney',\n",
              "  'Jesse Marsh',\n",
              "  'Tom Oreb',\n",
              "  'Cap Palmer',\n",
              "  'Erdman Penner',\n",
              "  'Dick Shaw',\n",
              "  'Harry Reeves',\n",
              "  'John Walbridge',\n",
              "  'Roy Williams'],\n",
              " 'title': 'Make Mine Music'}"
            ]
          },
          "metadata": {},
          "execution_count": 99
        }
      ]
    },
    {
      "cell_type": "markdown",
      "metadata": {
        "id": "OQEm0JBsZ7HE"
      },
      "source": [
        "##Saving data using pickle"
      ]
    },
    {
      "cell_type": "code",
      "metadata": {
        "id": "5cJZkmf6Y2AA"
      },
      "source": [
        "import pickle\n",
        "\n",
        "def save_data_pickle(name,data):\n",
        "  with open(name,'wb') as f:\n",
        "    pickle.dump(data,f)\n",
        "\n",
        "def load_data_pickle(name):\n",
        "  with open(name,'rb') as f:\n",
        "    return pickle.load(f)"
      ],
      "execution_count": 4,
      "outputs": []
    },
    {
      "cell_type": "code",
      "metadata": {
        "id": "A0Tr41bVbIZR"
      },
      "source": [
        "save_data_pickle(\"disney_movie_data_cleaned.pickle\",movie_info_list)"
      ],
      "execution_count": null,
      "outputs": []
    },
    {
      "cell_type": "code",
      "metadata": {
        "id": "JbJ1cYfUbdEB"
      },
      "source": [
        "data = load_data_pickle(\"disney_movie_data_cleaned.pickle\")"
      ],
      "execution_count": 5,
      "outputs": []
    },
    {
      "cell_type": "markdown",
      "metadata": {
        "id": "dGHXK2ARb_9V"
      },
      "source": [
        "###Attach IMDB/ROTTEN Tomatoes scores"
      ]
    },
    {
      "cell_type": "code",
      "metadata": {
        "colab": {
          "base_uri": "https://localhost:8080/",
          "height": 35
        },
        "id": "lV_G6mE3cJ26",
        "outputId": "cad40803-020f-4c3d-e33f-abcf6a973372"
      },
      "source": [
        "import requests\n",
        "import os\n",
        "import urllib\n",
        "\n",
        "def get_ombd_info(title):\n",
        "  base_url = \"http://www.omdbapi.com/?\"\n",
        "  parameters = {\"apikey\":os.environ['OMDB_API_KEY'],'t':title}\n",
        "  params_encoded = urllib.parse.urlencode(parameters)\n",
        "  full_url = base_url + params_encoded\n",
        "  return requests.get(full_url).json()\n",
        "\n",
        "def get_rotten_tomato_score(omdb):\n",
        "  ratings = omdb.get('Ratings',[])\n",
        "  for rating in ratings:\n",
        "    if rating['Source'] == 'Rotten Tomatoes':\n",
        "      return rating['Value']\n",
        "  \n",
        "  return None\n",
        "  \n",
        "info = get_ombd_info('into the woods')\n",
        "get_rotten_tomato_score(info)"
      ],
      "execution_count": 14,
      "outputs": [
        {
          "output_type": "execute_result",
          "data": {
            "application/vnd.google.colaboratory.intrinsic+json": {
              "type": "string"
            },
            "text/plain": [
              "'71%'"
            ]
          },
          "metadata": {},
          "execution_count": 14
        }
      ]
    },
    {
      "cell_type": "code",
      "metadata": {
        "id": "3-NxZQHrRqqo"
      },
      "source": [
        "for movie in data:\n",
        "  title = movie['title']\n",
        "  omdb_info = get_ombd_info(title)\n",
        "  movie['imdb'] = omdb_info.get('imdbRating',None)\n",
        "  movie['metascore'] = omdb_info.get('Metascore',None)\n",
        "  movie['rotten_tomatoes'] = get_rotten_tomato_score(omdb_info)"
      ],
      "execution_count": 17,
      "outputs": []
    },
    {
      "cell_type": "code",
      "metadata": {
        "colab": {
          "base_uri": "https://localhost:8080/"
        },
        "id": "IP9UIpTaS7EM",
        "outputId": "d69fafb6-af13-4910-bb8f-38b3cbc68afe"
      },
      "source": [
        "data[10]"
      ],
      "execution_count": 18,
      "outputs": [
        {
          "output_type": "execute_result",
          "data": {
            "text/plain": [
              "{'Based on': ['Casey at the Bat',\n",
              "  'Ernest Thayer',\n",
              "  'Peter and the Wolf',\n",
              "  'Sergei Prokofiev'],\n",
              " 'Box office': '$3.275 million (worldwide rentals)',\n",
              " 'Box office (float)': 3275000.0,\n",
              " 'Budget': '$1.35 million',\n",
              " 'Budget (float)': 1350000.0,\n",
              " 'Country': 'United States',\n",
              " 'Directed by': ['Jack Kinney',\n",
              "  'Clyde Geronimi',\n",
              "  'Hamilton Luske',\n",
              "  'Joshua Meador',\n",
              "  'Robert Cormack'],\n",
              " 'Distributed by': 'RKO Radio Pictures, Inc.',\n",
              " 'Language': 'English',\n",
              " 'Music by': ['Eliot Daniel',\n",
              "  'Ken Darby',\n",
              "  'Charles Wolcott',\n",
              "  'Oliver Wallace',\n",
              "  'Edward Plumb'],\n",
              " 'Produced by': 'Walt Disney',\n",
              " 'Production company': 'Walt Disney Productions',\n",
              " 'Release date': ['April 20, 1946 (New York City premiere)',\n",
              "  'August 15, 1946 (U.S.)'],\n",
              " 'Release date (datetime)': datetime.datetime(1946, 4, 20, 0, 0),\n",
              " 'Running time': '75 minutes',\n",
              " 'Running time (int)': 75,\n",
              " 'Starring': 'Nelson Eddy',\n",
              " 'Story by': ['James Bodrero',\n",
              "  'Homer Brightman',\n",
              "  'Erwin Graham',\n",
              "  'Eric Gurney',\n",
              "  'T. Hee',\n",
              "  'Sylvia Holland',\n",
              "  'Dick Huemer',\n",
              "  'Dick Kelsey',\n",
              "  'Dick Kinney',\n",
              "  'Jesse Marsh',\n",
              "  'Tom Oreb',\n",
              "  'Cap Palmer',\n",
              "  'Erdman Penner',\n",
              "  'Dick Shaw',\n",
              "  'Harry Reeves',\n",
              "  'John Walbridge',\n",
              "  'Roy Williams'],\n",
              " 'imdb': '6.3',\n",
              " 'metascore': '60',\n",
              " 'rotten_tomatoes': '64%',\n",
              " 'title': 'Make Mine Music'}"
            ]
          },
          "metadata": {},
          "execution_count": 18
        }
      ]
    },
    {
      "cell_type": "code",
      "metadata": {
        "id": "IGkLtdsuTcX6"
      },
      "source": [
        "save_data_pickle(\"disney_movie_data_final_result.pickle\",data)"
      ],
      "execution_count": 20,
      "outputs": []
    },
    {
      "cell_type": "markdown",
      "metadata": {
        "id": "sZ4u0qYeT3rh"
      },
      "source": [
        "##Save data as JSON & CSV"
      ]
    },
    {
      "cell_type": "code",
      "metadata": {
        "id": "boWhrTfcT-GI"
      },
      "source": [
        "data_copy = [movie.copy() for movie in data]"
      ],
      "execution_count": 21,
      "outputs": []
    },
    {
      "cell_type": "code",
      "metadata": {
        "id": "tyfwb7o6UPJT"
      },
      "source": [
        "for movie in data_copy:\n",
        "  date = movie['Release date (datetime)']\n",
        "  if date:\n",
        "    movie['Release date (datetime)'] = date.strftime(\"%B %d, %Y\")\n",
        "  else:\n",
        "    movie['Release date (datetime)'] = None"
      ],
      "execution_count": 22,
      "outputs": []
    },
    {
      "cell_type": "code",
      "metadata": {
        "id": "hbzWVWrbVOlQ"
      },
      "source": [
        "save_data('disney_data_final_result.json',data_copy)"
      ],
      "execution_count": 25,
      "outputs": []
    },
    {
      "cell_type": "markdown",
      "metadata": {
        "id": "Nhfkf3oBVw21"
      },
      "source": [
        "Convert data to Csv"
      ]
    },
    {
      "cell_type": "code",
      "metadata": {
        "id": "uDMRTGzMV0Hf"
      },
      "source": [
        "import pandas as pd\n",
        "\n",
        "df = pd.DataFrame(data)"
      ],
      "execution_count": 26,
      "outputs": []
    },
    {
      "cell_type": "code",
      "metadata": {
        "colab": {
          "base_uri": "https://localhost:8080/",
          "height": 717
        },
        "id": "RhETH43QWhrh",
        "outputId": "5d345cda-336e-486b-e5ae-6f7029812f91"
      },
      "source": [
        "df.head()"
      ],
      "execution_count": 27,
      "outputs": [
        {
          "output_type": "execute_result",
          "data": {
            "text/html": [
              "<div>\n",
              "<style scoped>\n",
              "    .dataframe tbody tr th:only-of-type {\n",
              "        vertical-align: middle;\n",
              "    }\n",
              "\n",
              "    .dataframe tbody tr th {\n",
              "        vertical-align: top;\n",
              "    }\n",
              "\n",
              "    .dataframe thead th {\n",
              "        text-align: right;\n",
              "    }\n",
              "</style>\n",
              "<table border=\"1\" class=\"dataframe\">\n",
              "  <thead>\n",
              "    <tr style=\"text-align: right;\">\n",
              "      <th></th>\n",
              "      <th>title</th>\n",
              "      <th>Production company</th>\n",
              "      <th>Distributed by</th>\n",
              "      <th>Release date</th>\n",
              "      <th>Running time</th>\n",
              "      <th>Country</th>\n",
              "      <th>Language</th>\n",
              "      <th>Box office</th>\n",
              "      <th>Running time (int)</th>\n",
              "      <th>Budget (float)</th>\n",
              "      <th>Box office (float)</th>\n",
              "      <th>Release date (datetime)</th>\n",
              "      <th>imdb</th>\n",
              "      <th>metascore</th>\n",
              "      <th>rotten_tomatoes</th>\n",
              "      <th>Directed by</th>\n",
              "      <th>Written by</th>\n",
              "      <th>Based on</th>\n",
              "      <th>Produced by</th>\n",
              "      <th>Starring</th>\n",
              "      <th>Music by</th>\n",
              "      <th>Budget</th>\n",
              "      <th>Story by</th>\n",
              "      <th>Narrated by</th>\n",
              "      <th>Cinematography</th>\n",
              "      <th>Edited by</th>\n",
              "      <th>Languages</th>\n",
              "      <th>Screenplay by</th>\n",
              "      <th>Countries</th>\n",
              "      <th>Production companies</th>\n",
              "      <th>Color process</th>\n",
              "      <th>Japanese</th>\n",
              "      <th>Hepburn</th>\n",
              "      <th>Adaptation by</th>\n",
              "      <th>Animation by</th>\n",
              "      <th>Traditional</th>\n",
              "      <th>Simplified</th>\n",
              "      <th>Original title</th>\n",
              "      <th>Music</th>\n",
              "      <th>Lyrics</th>\n",
              "      <th>Book</th>\n",
              "      <th>Basis</th>\n",
              "      <th>Productions</th>\n",
              "      <th>Awards</th>\n",
              "    </tr>\n",
              "  </thead>\n",
              "  <tbody>\n",
              "    <tr>\n",
              "      <th>0</th>\n",
              "      <td>Academy Award Review of</td>\n",
              "      <td>Walt Disney Productions</td>\n",
              "      <td>RKO Radio Pictures</td>\n",
              "      <td>[May 19, 1937]</td>\n",
              "      <td>41 minutes (74 minutes 1966 release)</td>\n",
              "      <td>United States</td>\n",
              "      <td>English</td>\n",
              "      <td>$45.472</td>\n",
              "      <td>41.0</td>\n",
              "      <td>NaN</td>\n",
              "      <td>4.547200e+01</td>\n",
              "      <td>1937-05-19</td>\n",
              "      <td>7.1</td>\n",
              "      <td>N/A</td>\n",
              "      <td>None</td>\n",
              "      <td>NaN</td>\n",
              "      <td>NaN</td>\n",
              "      <td>NaN</td>\n",
              "      <td>NaN</td>\n",
              "      <td>NaN</td>\n",
              "      <td>NaN</td>\n",
              "      <td>NaN</td>\n",
              "      <td>NaN</td>\n",
              "      <td>NaN</td>\n",
              "      <td>NaN</td>\n",
              "      <td>NaN</td>\n",
              "      <td>NaN</td>\n",
              "      <td>NaN</td>\n",
              "      <td>NaN</td>\n",
              "      <td>NaN</td>\n",
              "      <td>NaN</td>\n",
              "      <td>NaN</td>\n",
              "      <td>NaN</td>\n",
              "      <td>NaN</td>\n",
              "      <td>NaN</td>\n",
              "      <td>NaN</td>\n",
              "      <td>NaN</td>\n",
              "      <td>NaN</td>\n",
              "      <td>NaN</td>\n",
              "      <td>NaN</td>\n",
              "      <td>NaN</td>\n",
              "      <td>NaN</td>\n",
              "      <td>NaN</td>\n",
              "      <td>NaN</td>\n",
              "    </tr>\n",
              "    <tr>\n",
              "      <th>1</th>\n",
              "      <td>Snow White and the Seven Dwarfs</td>\n",
              "      <td>Walt Disney Productions</td>\n",
              "      <td>RKO Radio Pictures</td>\n",
              "      <td>[December 21, 1937 ( Carthay Circle Theatre )]</td>\n",
              "      <td>83 minutes</td>\n",
              "      <td>United States</td>\n",
              "      <td>English</td>\n",
              "      <td>$418 million</td>\n",
              "      <td>83.0</td>\n",
              "      <td>1490000.0</td>\n",
              "      <td>4.180000e+08</td>\n",
              "      <td>1937-12-21</td>\n",
              "      <td>7.6</td>\n",
              "      <td>95</td>\n",
              "      <td>None</td>\n",
              "      <td>[David Hand, William Cottrell, Wilfred Jackson...</td>\n",
              "      <td>[Ted Sears, Richard Creedon, Otto Englander, D...</td>\n",
              "      <td>[Snow White, Brothers Grimm]</td>\n",
              "      <td>Walt Disney</td>\n",
              "      <td>[Adriana Caselotti, Lucille La Verne, Harry St...</td>\n",
              "      <td>[Frank Churchill, Paul Smith, Leigh Harline]</td>\n",
              "      <td>$1.49 million</td>\n",
              "      <td>NaN</td>\n",
              "      <td>NaN</td>\n",
              "      <td>NaN</td>\n",
              "      <td>NaN</td>\n",
              "      <td>NaN</td>\n",
              "      <td>NaN</td>\n",
              "      <td>NaN</td>\n",
              "      <td>NaN</td>\n",
              "      <td>NaN</td>\n",
              "      <td>NaN</td>\n",
              "      <td>NaN</td>\n",
              "      <td>NaN</td>\n",
              "      <td>NaN</td>\n",
              "      <td>NaN</td>\n",
              "      <td>NaN</td>\n",
              "      <td>NaN</td>\n",
              "      <td>NaN</td>\n",
              "      <td>NaN</td>\n",
              "      <td>NaN</td>\n",
              "      <td>NaN</td>\n",
              "      <td>NaN</td>\n",
              "      <td>NaN</td>\n",
              "    </tr>\n",
              "    <tr>\n",
              "      <th>2</th>\n",
              "      <td>Pinocchio</td>\n",
              "      <td>Walt Disney Productions</td>\n",
              "      <td>RKO Radio Pictures</td>\n",
              "      <td>[February 7, 1940 ( Center Theatre ), February...</td>\n",
              "      <td>88 minutes</td>\n",
              "      <td>United States</td>\n",
              "      <td>English</td>\n",
              "      <td>$164 million</td>\n",
              "      <td>88.0</td>\n",
              "      <td>2600000.0</td>\n",
              "      <td>1.640000e+08</td>\n",
              "      <td>1940-02-07</td>\n",
              "      <td>7.4</td>\n",
              "      <td>99</td>\n",
              "      <td>100%</td>\n",
              "      <td>[Ben Sharpsteen, Hamilton Luske, Bill Roberts,...</td>\n",
              "      <td>NaN</td>\n",
              "      <td>[The Adventures of Pinocchio, Carlo Collodi]</td>\n",
              "      <td>Walt Disney</td>\n",
              "      <td>[Cliff Edwards, Dickie Jones, Christian Rub, W...</td>\n",
              "      <td>[Leigh Harline, Paul J. Smith]</td>\n",
              "      <td>$2.6 million</td>\n",
              "      <td>[Ted Sears, Otto Englander, Webb Smith, Willia...</td>\n",
              "      <td>NaN</td>\n",
              "      <td>NaN</td>\n",
              "      <td>NaN</td>\n",
              "      <td>NaN</td>\n",
              "      <td>NaN</td>\n",
              "      <td>NaN</td>\n",
              "      <td>NaN</td>\n",
              "      <td>NaN</td>\n",
              "      <td>NaN</td>\n",
              "      <td>NaN</td>\n",
              "      <td>NaN</td>\n",
              "      <td>NaN</td>\n",
              "      <td>NaN</td>\n",
              "      <td>NaN</td>\n",
              "      <td>NaN</td>\n",
              "      <td>NaN</td>\n",
              "      <td>NaN</td>\n",
              "      <td>NaN</td>\n",
              "      <td>NaN</td>\n",
              "      <td>NaN</td>\n",
              "      <td>NaN</td>\n",
              "    </tr>\n",
              "    <tr>\n",
              "      <th>3</th>\n",
              "      <td>Fantasia</td>\n",
              "      <td>Walt Disney Productions</td>\n",
              "      <td>RKO Radio Pictures</td>\n",
              "      <td>[November 13, 1940]</td>\n",
              "      <td>126 minutes</td>\n",
              "      <td>United States</td>\n",
              "      <td>English</td>\n",
              "      <td>$76.4–$83.3 million (United States and Canada)</td>\n",
              "      <td>126.0</td>\n",
              "      <td>2280000.0</td>\n",
              "      <td>8.330000e+07</td>\n",
              "      <td>1940-11-13</td>\n",
              "      <td>7.7</td>\n",
              "      <td>96</td>\n",
              "      <td>95%</td>\n",
              "      <td>[Samuel Armstrong, James Algar, Bill Roberts, ...</td>\n",
              "      <td>NaN</td>\n",
              "      <td>NaN</td>\n",
              "      <td>[Walt Disney, Ben Sharpsteen]</td>\n",
              "      <td>[Leopold Stokowski, Deems Taylor]</td>\n",
              "      <td>See program</td>\n",
              "      <td>$2.28 million</td>\n",
              "      <td>[Joe Grant, Dick Huemer]</td>\n",
              "      <td>Deems Taylor</td>\n",
              "      <td>James Wong Howe</td>\n",
              "      <td>NaN</td>\n",
              "      <td>NaN</td>\n",
              "      <td>NaN</td>\n",
              "      <td>NaN</td>\n",
              "      <td>NaN</td>\n",
              "      <td>NaN</td>\n",
              "      <td>NaN</td>\n",
              "      <td>NaN</td>\n",
              "      <td>NaN</td>\n",
              "      <td>NaN</td>\n",
              "      <td>NaN</td>\n",
              "      <td>NaN</td>\n",
              "      <td>NaN</td>\n",
              "      <td>NaN</td>\n",
              "      <td>NaN</td>\n",
              "      <td>NaN</td>\n",
              "      <td>NaN</td>\n",
              "      <td>NaN</td>\n",
              "      <td>NaN</td>\n",
              "    </tr>\n",
              "    <tr>\n",
              "      <th>4</th>\n",
              "      <td>The Reluctant Dragon</td>\n",
              "      <td>Walt Disney Productions</td>\n",
              "      <td>RKO Radio Pictures</td>\n",
              "      <td>[June 27, 1941]</td>\n",
              "      <td>74 minutes</td>\n",
              "      <td>United States</td>\n",
              "      <td>English</td>\n",
              "      <td>$960,000 (worldwide rentals)</td>\n",
              "      <td>74.0</td>\n",
              "      <td>600000.0</td>\n",
              "      <td>9.600000e+05</td>\n",
              "      <td>1941-06-27</td>\n",
              "      <td>6.9</td>\n",
              "      <td>N/A</td>\n",
              "      <td>None</td>\n",
              "      <td>[Alfred Werker, Hamilton Luske, Jack Cutting, ...</td>\n",
              "      <td>[Ted Sears, Al Perkins, Bill Cottrell, Harry C...</td>\n",
              "      <td>NaN</td>\n",
              "      <td>Walt Disney</td>\n",
              "      <td>[Robert Benchley, Frances Gifford, Nana Bryant]</td>\n",
              "      <td>[Frank Churchill, Larry Morey]</td>\n",
              "      <td>$600,000</td>\n",
              "      <td>NaN</td>\n",
              "      <td>NaN</td>\n",
              "      <td>Bert Glennon</td>\n",
              "      <td>Paul Weatherwax</td>\n",
              "      <td>NaN</td>\n",
              "      <td>NaN</td>\n",
              "      <td>NaN</td>\n",
              "      <td>NaN</td>\n",
              "      <td>NaN</td>\n",
              "      <td>NaN</td>\n",
              "      <td>NaN</td>\n",
              "      <td>NaN</td>\n",
              "      <td>NaN</td>\n",
              "      <td>NaN</td>\n",
              "      <td>NaN</td>\n",
              "      <td>NaN</td>\n",
              "      <td>NaN</td>\n",
              "      <td>NaN</td>\n",
              "      <td>NaN</td>\n",
              "      <td>NaN</td>\n",
              "      <td>NaN</td>\n",
              "      <td>NaN</td>\n",
              "    </tr>\n",
              "  </tbody>\n",
              "</table>\n",
              "</div>"
            ],
            "text/plain": [
              "                             title       Production company  ... Productions Awards\n",
              "0          Academy Award Review of  Walt Disney Productions  ...         NaN    NaN\n",
              "1  Snow White and the Seven Dwarfs  Walt Disney Productions  ...         NaN    NaN\n",
              "2                        Pinocchio  Walt Disney Productions  ...         NaN    NaN\n",
              "3                         Fantasia  Walt Disney Productions  ...         NaN    NaN\n",
              "4             The Reluctant Dragon  Walt Disney Productions  ...         NaN    NaN\n",
              "\n",
              "[5 rows x 44 columns]"
            ]
          },
          "metadata": {},
          "execution_count": 27
        }
      ]
    },
    {
      "cell_type": "code",
      "metadata": {
        "id": "VPVdUInnWoUZ"
      },
      "source": [
        "df.to_csv(\"disney_data_final_result.csv\")"
      ],
      "execution_count": 28,
      "outputs": []
    },
    {
      "cell_type": "code",
      "metadata": {
        "colab": {
          "base_uri": "https://localhost:8080/"
        },
        "id": "BBEMWLvIXG-C",
        "outputId": "482c22c5-1461-452e-cf26-7b92e013ac3a"
      },
      "source": [
        "df.info()"
      ],
      "execution_count": 29,
      "outputs": [
        {
          "output_type": "stream",
          "name": "stdout",
          "text": [
            "<class 'pandas.core.frame.DataFrame'>\n",
            "RangeIndex: 506 entries, 0 to 505\n",
            "Data columns (total 44 columns):\n",
            " #   Column                   Non-Null Count  Dtype         \n",
            "---  ------                   --------------  -----         \n",
            " 0   title                    506 non-null    object        \n",
            " 1   Production company       207 non-null    object        \n",
            " 2   Distributed by           503 non-null    object        \n",
            " 3   Release date             496 non-null    object        \n",
            " 4   Running time             487 non-null    object        \n",
            " 5   Country                  451 non-null    object        \n",
            " 6   Language                 484 non-null    object        \n",
            " 7   Box office               398 non-null    object        \n",
            " 8   Running time (int)       481 non-null    float64       \n",
            " 9   Budget (float)           302 non-null    float64       \n",
            " 10  Box office (float)       383 non-null    float64       \n",
            " 11  Release date (datetime)  485 non-null    datetime64[ns]\n",
            " 12  imdb                     481 non-null    object        \n",
            " 13  metascore                481 non-null    object        \n",
            " 14  rotten_tomatoes          356 non-null    object        \n",
            " 15  Directed by              503 non-null    object        \n",
            " 16  Written by               229 non-null    object        \n",
            " 17  Based on                 267 non-null    object        \n",
            " 18  Produced by              494 non-null    object        \n",
            " 19  Starring                 469 non-null    object        \n",
            " 20  Music by                 495 non-null    object        \n",
            " 21  Budget                   313 non-null    object        \n",
            " 22  Story by                 169 non-null    object        \n",
            " 23  Narrated by              65 non-null     object        \n",
            " 24  Cinematography           378 non-null    object        \n",
            " 25  Edited by                448 non-null    object        \n",
            " 26  Languages                19 non-null     object        \n",
            " 27  Screenplay by            234 non-null    object        \n",
            " 28  Countries                48 non-null     object        \n",
            " 29  Production companies     297 non-null    object        \n",
            " 30  Color process            3 non-null      object        \n",
            " 31  Japanese                 5 non-null      object        \n",
            " 32  Hepburn                  5 non-null      object        \n",
            " 33  Adaptation by            1 non-null      object        \n",
            " 34  Animation by             2 non-null      object        \n",
            " 35  Traditional              2 non-null      object        \n",
            " 36  Simplified               2 non-null      object        \n",
            " 37  Original title           1 non-null      object        \n",
            " 38  Music                    2 non-null      object        \n",
            " 39  Lyrics                   2 non-null      object        \n",
            " 40  Book                     2 non-null      object        \n",
            " 41  Basis                    2 non-null      object        \n",
            " 42  Productions              2 non-null      object        \n",
            " 43  Awards                   2 non-null      object        \n",
            "dtypes: datetime64[ns](1), float64(3), object(40)\n",
            "memory usage: 174.1+ KB\n"
          ]
        }
      ]
    }
  ]
}